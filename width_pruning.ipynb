{
 "cells": [
  {
   "cell_type": "code",
   "execution_count": 1,
   "metadata": {},
   "outputs": [
    {
     "name": "stderr",
     "output_type": "stream",
     "text": [
      "/users/eleves-a/2021/ahmad.rammal/miniconda3/envs/colab/lib/python3.10/site-packages/tqdm/auto.py:21: TqdmWarning: IProgress not found. Please update jupyter and ipywidgets. See https://ipywidgets.readthedocs.io/en/stable/user_install.html\n",
      "  from .autonotebook import tqdm as notebook_tqdm\n"
     ]
    }
   ],
   "source": [
    "from pruning import *\n",
    "from lw_retrain_utils import *\n",
    "from evaluation import *\n",
    "import json\n",
    "import copy \n",
    "from datasets import load_dataset\n",
    "import os\n",
    "import gc\n",
    "import shutil"
   ]
  },
  {
   "cell_type": "code",
   "execution_count": 2,
   "metadata": {},
   "outputs": [],
   "source": [
    "model_name = \"openai-community/gpt2-medium\"\n",
    "model, tokenizer = load_model(model_name)"
   ]
  },
  {
   "cell_type": "code",
   "execution_count": 3,
   "metadata": {},
   "outputs": [
    {
     "name": "stderr",
     "output_type": "stream",
     "text": [
      "100%|██████████| 32/32 [00:10<00:00,  2.96it/s]\n"
     ]
    }
   ],
   "source": [
    "dataset = load_dataset(\"stas/openwebtext-10k\", trust_remote_code=True)\n",
    "calibration_pass(model=model,\n",
    "                 tokenizer=tokenizer,\n",
    "                 dataset=dataset,\n",
    "                 sample_size=128,\n",
    "                 batch_size=4,)"
   ]
  },
  {
   "cell_type": "code",
   "execution_count": 4,
   "metadata": {},
   "outputs": [
    {
     "name": "stdout",
     "output_type": "stream",
     "text": [
      "254104576\n",
      "Skipping evaluation for num_heads=12_mlp_exp=2.5_embed_size=1024, already exists.\n",
      "Skipping training for num_heads=12_mlp_exp=2.5_embed_size=1024, already exists.\n"
     ]
    },
    {
     "name": "stderr",
     "output_type": "stream",
     "text": [
      "`loss_type=None` was set in the config but it is unrecognised.Using the default loss: `ForCausalLMLoss`.\n"
     ]
    },
    {
     "data": {
      "text/html": [
       "\n",
       "    <div>\n",
       "      \n",
       "      <progress value='280' max='280' style='width:300px; height:20px; vertical-align: middle;'></progress>\n",
       "      [280/280 22:18, Epoch 1/2]\n",
       "    </div>\n",
       "    <table border=\"1\" class=\"dataframe\">\n",
       "  <thead>\n",
       " <tr style=\"text-align: left;\">\n",
       "      <th>Step</th>\n",
       "      <th>Training Loss</th>\n",
       "      <th>Validation Loss</th>\n",
       "    </tr>\n",
       "  </thead>\n",
       "  <tbody>\n",
       "    <tr>\n",
       "      <td>30</td>\n",
       "      <td>4.520800</td>\n",
       "      <td>3.994396</td>\n",
       "    </tr>\n",
       "    <tr>\n",
       "      <td>60</td>\n",
       "      <td>3.607500</td>\n",
       "      <td>3.341475</td>\n",
       "    </tr>\n",
       "    <tr>\n",
       "      <td>90</td>\n",
       "      <td>3.438400</td>\n",
       "      <td>3.227257</td>\n",
       "    </tr>\n",
       "    <tr>\n",
       "      <td>120</td>\n",
       "      <td>3.390900</td>\n",
       "      <td>3.188970</td>\n",
       "    </tr>\n",
       "    <tr>\n",
       "      <td>150</td>\n",
       "      <td>3.334200</td>\n",
       "      <td>3.171892</td>\n",
       "    </tr>\n",
       "    <tr>\n",
       "      <td>180</td>\n",
       "      <td>3.322300</td>\n",
       "      <td>3.163071</td>\n",
       "    </tr>\n",
       "    <tr>\n",
       "      <td>210</td>\n",
       "      <td>3.325300</td>\n",
       "      <td>3.161220</td>\n",
       "    </tr>\n",
       "    <tr>\n",
       "      <td>240</td>\n",
       "      <td>3.296600</td>\n",
       "      <td>3.160393</td>\n",
       "    </tr>\n",
       "    <tr>\n",
       "      <td>270</td>\n",
       "      <td>3.309900</td>\n",
       "      <td>3.160300</td>\n",
       "    </tr>\n",
       "  </tbody>\n",
       "</table><p>"
      ],
      "text/plain": [
       "<IPython.core.display.HTML object>"
      ]
     },
     "metadata": {},
     "output_type": "display_data"
    },
    {
     "name": "stdout",
     "output_type": "stream",
     "text": [
      "Evaluating perplexity for num_heads=12_mlp_exp=2.5_embed_size=1024...\n"
     ]
    },
    {
     "name": "stderr",
     "output_type": "stream",
     "text": [
      "Token indices sequence length is longer than the specified maximum sequence length for this model (287644 > 1024). Running this sequence through the model will result in indexing errors\n",
      "100%|█████████▉| 280/281 [00:06<00:00, 43.98it/s]\n"
     ]
    },
    {
     "data": {
      "text/plain": [
       "1007"
      ]
     },
     "execution_count": 4,
     "metadata": {},
     "output_type": "execute_result"
    }
   ],
   "source": [
    "tokenized_dataset = tokenize_dataset(tokenizer, dataset)\n",
    "\n",
    "os.makedirs(\"./saved_metrics\", exist_ok=True)\n",
    "\n",
    "training_metrics_path = \"./saved_metrics/training_metrics.json\"\n",
    "eval_metrics_path = \"./saved_metrics/eval_metrics.json\"\n",
    "\n",
    "if os.path.exists(training_metrics_path):\n",
    "    with open(training_metrics_path, \"r\") as f:\n",
    "        training_metrics = json.load(f)\n",
    "else:\n",
    "    training_metrics = {}\n",
    "\n",
    "if os.path.exists(eval_metrics_path):\n",
    "    with open(eval_metrics_path, \"r\") as f:\n",
    "        eval_metrics = json.load(f)\n",
    "else:\n",
    "    eval_metrics = {}\n",
    "\n",
    "num_heads = 12\n",
    "mult_hidden = 2.5\n",
    "embed_size = 1024\n",
    "prune_model_width(model, int(mult_hidden * embed_size), num_heads, embed_size)\n",
    "print(sum(t.numel() for t in model.parameters()))\n",
    "param_key = f\"num_heads={num_heads}_mlp_exp={mult_hidden}_embed_size={embed_size}\"\n",
    "gc.collect()\n",
    "\n",
    "if param_key+\"_before_training\" in eval_metrics:\n",
    "    print(f\"Skipping evaluation for {param_key}, already exists.\")\n",
    "else:\n",
    "    print(f\"Evaluating perplexity for {param_key} before training...\")\n",
    "    eval_metrics[param_key+\"_before_training\"] = evaluate_perplexity(model, tokenizer, stride=1024).item()\n",
    "\n",
    "    with open(eval_metrics_path, \"w\") as f:\n",
    "        json.dump(eval_metrics, f, indent=4)\n",
    "if param_key in training_metrics:\n",
    "    print(f\"Skipping training for {param_key}, already exists.\")\n",
    "else:\n",
    "    print(f\"Training model for {param_key}...\")\n",
    "\n",
    "    \n",
    "trainer = trainer_gpt2(model, tokenizer, tokenized_dataset, batch_size=4, num_epochs=2, lr=2e-4) #, output_dir=f\"./saved_models/{param_key}\")\n",
    "trainer.train()\n",
    "    # training_metrics[param_key] = trainer.state.log_history\n",
    "\n",
    "    # with open(training_metrics_path, \"w\") as f:\n",
    "    #     json.dump(training_metrics, f, indent=4)\n",
    "    # torch.cuda.empty_cache()\n",
    "    # gc.collect()\n",
    "    \n",
    "if param_key in eval_metrics:\n",
    "    print(f\"Skipping evaluation for {param_key}, already exists.\")\n",
    "else:\n",
    "    print(f\"Evaluating perplexity for {param_key}...\")\n",
    "    eval_metrics[param_key] = evaluate_perplexity(model, tokenizer, stride=1024).item()\n",
    "\n",
    "    with open(eval_metrics_path, \"w\") as f:\n",
    "        json.dump(eval_metrics, f, indent=4)\n",
    "\n",
    "torch.cuda.empty_cache()\n",
    "gc.collect()"
   ]
  },
  {
   "cell_type": "code",
   "execution_count": 5,
   "metadata": {},
   "outputs": [],
   "source": [
    "output_dir=f\"./saved_models/{param_key}\"\n",
    "\n",
    "output_dir = f\"./saved_models/{param_key}\"\n",
    "os.makedirs(output_dir, exist_ok=True)\n",
    "\n",
    "torch.save(model, f\"{output_dir}/model_lw_retrain.pth\")\n",
    "torch.save(model.state_dict(), f\"{output_dir}/model_lw_retrain_state_dict.pth\")"
   ]
  },
  {
   "cell_type": "markdown",
   "metadata": {},
   "source": [
    "## Knowledge Distillation"
   ]
  },
  {
   "cell_type": "code",
   "execution_count": 6,
   "metadata": {},
   "outputs": [],
   "source": [
    "import torch\n",
    "from transformers import AdamW\n",
    "from torch.nn import functional as F\n",
    "from torch.utils.data import DataLoader\n",
    "import knowledge_distillation as kd\n",
    "\n",
    "\n",
    "# import knowledge_distillation  # Import the module\n",
    "from evaluation import *"
   ]
  },
  {
   "cell_type": "code",
   "execution_count": 7,
   "metadata": {},
   "outputs": [
    {
     "name": "stdout",
     "output_type": "stream",
     "text": [
      "Models loaded successfully\n"
     ]
    }
   ],
   "source": [
    "model_name = \"openai-community/gpt2-medium\"\n",
    "teacher_model, tokenizer = load_model(model_name)\n",
    "teacher_model.eval()\n",
    "print('Models loaded successfully')"
   ]
  },
  {
   "cell_type": "code",
   "execution_count": 8,
   "metadata": {},
   "outputs": [],
   "source": [
    "dataset = load_dataset(\"deven367/babylm-10M-cbt\", trust_remote_code=True)\n",
    "train_dataset = dataset['train']\n",
    "val_dataset = dataset['valid'].select(range(500))"
   ]
  },
  {
   "cell_type": "code",
   "execution_count": 9,
   "metadata": {},
   "outputs": [
    {
     "name": "stdout",
     "output_type": "stream",
     "text": [
      "Tokenizing dataset...\n"
     ]
    },
    {
     "name": "stderr",
     "output_type": "stream",
     "text": [
      "Processing examples: 100%|██████████| 26000/26000 [00:04<00:00, 5522.27 examples/s]\n",
      "Processing examples: 100%|██████████| 500/500 [00:00<00:00, 4778.66 examples/s]\n"
     ]
    }
   ],
   "source": [
    "\n",
    "def tokenize_function(examples):\n",
    "    tokenized = tokenizer(\n",
    "        examples[\"text\"],\n",
    "        padding=\"max_length\",\n",
    "        truncation=True,\n",
    "        max_length=256,\n",
    "        return_tensors=\"pt\"\n",
    "    )\n",
    "\n",
    "    # Create input_ids and labels for language modeling\n",
    "    input_ids = tokenized[\"input_ids\"]\n",
    "    labels = input_ids.clone()\n",
    "\n",
    "    return {\n",
    "        \"input_ids\": input_ids,\n",
    "        \"attention_mask\": tokenized[\"attention_mask\"],\n",
    "        \"labels\": labels\n",
    "    }\n",
    "    \n",
    "print(\"Tokenizing dataset...\")\n",
    "tokenized_train_datasets = train_dataset.map(\n",
    "    tokenize_function,\n",
    "    batched=True,\n",
    "    batch_size=32,  # Smaller batch size for mapping\n",
    "    remove_columns=train_dataset.column_names,\n",
    "    desc=\"Processing examples\",\n",
    "    load_from_cache_file=False  # Disable caching for debugging\n",
    ")\n",
    "tokenized_val_datasets = val_dataset.map(\n",
    "    tokenize_function,\n",
    "    batched=True,\n",
    "    batch_size=32,  # Smaller batch size for mapping\n",
    "    remove_columns=val_dataset.column_names,\n",
    "    desc=\"Processing examples\",\n",
    "    load_from_cache_file=False  # Disable caching for debugging\n",
    ")\n",
    "tokenized_train_datasets.set_format(\"torch\")\n",
    "tokenized_val_datasets.set_format(\"torch\")"
   ]
  },
  {
   "cell_type": "code",
   "execution_count": 10,
   "metadata": {},
   "outputs": [
    {
     "name": "stderr",
     "output_type": "stream",
     "text": [
      "/users/eleves-a/2021/ahmad.rammal/miniconda3/envs/colab/lib/python3.10/site-packages/transformers/optimization.py:640: FutureWarning: This implementation of AdamW is deprecated and will be removed in a future version. Use the PyTorch implementation torch.optim.AdamW instead, or set `no_deprecation_warning=True` to disable this warning\n",
      "  warnings.warn(\n"
     ]
    },
    {
     "name": "stdout",
     "output_type": "stream",
     "text": [
      "\n",
      "🔄 Epoch 1/2 - Training...\n"
     ]
    },
    {
     "name": "stderr",
     "output_type": "stream",
     "text": [
      "Training Loss: 54.6548:   4%|▍         | 251/6500 [00:29<1:48:07,  1.04s/it]"
     ]
    },
    {
     "name": "stdout",
     "output_type": "stream",
     "text": [
      "📉 Step 250: Validation Loss = 31.7630\n"
     ]
    },
    {
     "name": "stderr",
     "output_type": "stream",
     "text": [
      "Training Loss: 41.0530:   8%|▊         | 502/6500 [00:58<1:17:18,  1.29it/s]"
     ]
    },
    {
     "name": "stdout",
     "output_type": "stream",
     "text": [
      "📉 Step 500: Validation Loss = 26.7116\n"
     ]
    },
    {
     "name": "stderr",
     "output_type": "stream",
     "text": [
      "Training Loss: 35.2317:  12%|█▏        | 752/6500 [01:26<1:12:51,  1.31it/s]"
     ]
    },
    {
     "name": "stdout",
     "output_type": "stream",
     "text": [
      "📉 Step 750: Validation Loss = 24.5806\n"
     ]
    },
    {
     "name": "stderr",
     "output_type": "stream",
     "text": [
      "Training Loss: 32.0679:  15%|█▌        | 1002/6500 [01:55<1:08:56,  1.33it/s]"
     ]
    },
    {
     "name": "stdout",
     "output_type": "stream",
     "text": [
      "📉 Step 1000: Validation Loss = 23.2209\n"
     ]
    },
    {
     "name": "stderr",
     "output_type": "stream",
     "text": [
      "Training Loss: 29.8010:  19%|█▉        | 1252/6500 [02:24<1:05:46,  1.33it/s]"
     ]
    },
    {
     "name": "stdout",
     "output_type": "stream",
     "text": [
      "📉 Step 1250: Validation Loss = 22.3189\n"
     ]
    },
    {
     "name": "stderr",
     "output_type": "stream",
     "text": [
      "Training Loss: 28.1610:  23%|██▎       | 1502/6500 [02:53<1:02:37,  1.33it/s]"
     ]
    },
    {
     "name": "stdout",
     "output_type": "stream",
     "text": [
      "📉 Step 1500: Validation Loss = 21.6675\n"
     ]
    },
    {
     "name": "stderr",
     "output_type": "stream",
     "text": [
      "Training Loss: 26.9213:  27%|██▋       | 1752/6500 [03:22<59:35,  1.33it/s]  "
     ]
    },
    {
     "name": "stdout",
     "output_type": "stream",
     "text": [
      "📉 Step 1750: Validation Loss = 21.1274\n"
     ]
    },
    {
     "name": "stderr",
     "output_type": "stream",
     "text": [
      "Training Loss: 25.8992:  31%|███       | 2002/6500 [03:50<55:27,  1.35it/s]  "
     ]
    },
    {
     "name": "stdout",
     "output_type": "stream",
     "text": [
      "📉 Step 2000: Validation Loss = 20.6984\n"
     ]
    },
    {
     "name": "stderr",
     "output_type": "stream",
     "text": [
      "Training Loss: 25.0876:  35%|███▍      | 2252/6500 [04:18<52:25,  1.35it/s]  "
     ]
    },
    {
     "name": "stdout",
     "output_type": "stream",
     "text": [
      "📉 Step 2250: Validation Loss = 20.3276\n"
     ]
    },
    {
     "name": "stderr",
     "output_type": "stream",
     "text": [
      "Training Loss: 24.3914:  38%|███▊      | 2502/6500 [04:47<49:18,  1.35it/s]  "
     ]
    },
    {
     "name": "stdout",
     "output_type": "stream",
     "text": [
      "📉 Step 2500: Validation Loss = 19.9740\n"
     ]
    },
    {
     "name": "stderr",
     "output_type": "stream",
     "text": [
      "Training Loss: 23.8050:  42%|████▏     | 2752/6500 [05:15<46:38,  1.34it/s]  "
     ]
    },
    {
     "name": "stdout",
     "output_type": "stream",
     "text": [
      "📉 Step 2750: Validation Loss = 19.7060\n"
     ]
    },
    {
     "name": "stderr",
     "output_type": "stream",
     "text": [
      "Training Loss: 23.3643:  46%|████▌     | 3002/6500 [05:44<43:33,  1.34it/s]"
     ]
    },
    {
     "name": "stdout",
     "output_type": "stream",
     "text": [
      "📉 Step 3000: Validation Loss = 19.4544\n"
     ]
    },
    {
     "name": "stderr",
     "output_type": "stream",
     "text": [
      "Training Loss: 22.9172:  50%|█████     | 3252/6500 [06:12<40:05,  1.35it/s]"
     ]
    },
    {
     "name": "stdout",
     "output_type": "stream",
     "text": [
      "📉 Step 3250: Validation Loss = 19.2378\n"
     ]
    },
    {
     "name": "stderr",
     "output_type": "stream",
     "text": [
      "Training Loss: 22.5428:  54%|█████▍    | 3502/6500 [06:41<37:13,  1.34it/s]"
     ]
    },
    {
     "name": "stdout",
     "output_type": "stream",
     "text": [
      "📉 Step 3500: Validation Loss = 19.0627\n"
     ]
    },
    {
     "name": "stderr",
     "output_type": "stream",
     "text": [
      "Training Loss: 22.1537:  58%|█████▊    | 3752/6500 [07:09<34:13,  1.34it/s]"
     ]
    },
    {
     "name": "stdout",
     "output_type": "stream",
     "text": [
      "📉 Step 3750: Validation Loss = 18.8456\n"
     ]
    },
    {
     "name": "stderr",
     "output_type": "stream",
     "text": [
      "Training Loss: 21.8648:  62%|██████▏   | 4002/6500 [07:37<31:01,  1.34it/s]"
     ]
    },
    {
     "name": "stdout",
     "output_type": "stream",
     "text": [
      "📉 Step 4000: Validation Loss = 18.7033\n"
     ]
    },
    {
     "name": "stderr",
     "output_type": "stream",
     "text": [
      "Training Loss: 21.5565:  65%|██████▌   | 4252/6500 [08:06<27:54,  1.34it/s]"
     ]
    },
    {
     "name": "stdout",
     "output_type": "stream",
     "text": [
      "📉 Step 4250: Validation Loss = 18.5751\n"
     ]
    },
    {
     "name": "stderr",
     "output_type": "stream",
     "text": [
      "Training Loss: 21.3122:  69%|██████▉   | 4502/6500 [08:34<24:37,  1.35it/s]"
     ]
    },
    {
     "name": "stdout",
     "output_type": "stream",
     "text": [
      "📉 Step 4500: Validation Loss = 18.4204\n"
     ]
    },
    {
     "name": "stderr",
     "output_type": "stream",
     "text": [
      "Training Loss: 21.0483:  73%|███████▎  | 4752/6500 [09:03<21:45,  1.34it/s]"
     ]
    },
    {
     "name": "stdout",
     "output_type": "stream",
     "text": [
      "📉 Step 4750: Validation Loss = 18.2863\n"
     ]
    },
    {
     "name": "stderr",
     "output_type": "stream",
     "text": [
      "Training Loss: 20.8379:  77%|███████▋  | 5002/6500 [09:31<18:33,  1.35it/s]"
     ]
    },
    {
     "name": "stdout",
     "output_type": "stream",
     "text": [
      "📉 Step 5000: Validation Loss = 18.1392\n"
     ]
    },
    {
     "name": "stderr",
     "output_type": "stream",
     "text": [
      "Training Loss: 20.6216:  81%|████████  | 5252/6500 [10:00<15:31,  1.34it/s]"
     ]
    },
    {
     "name": "stdout",
     "output_type": "stream",
     "text": [
      "📉 Step 5250: Validation Loss = 18.0593\n"
     ]
    },
    {
     "name": "stderr",
     "output_type": "stream",
     "text": [
      "Training Loss: 20.4361:  85%|████████▍ | 5502/6500 [10:28<12:24,  1.34it/s]"
     ]
    },
    {
     "name": "stdout",
     "output_type": "stream",
     "text": [
      "📉 Step 5500: Validation Loss = 17.9577\n"
     ]
    },
    {
     "name": "stderr",
     "output_type": "stream",
     "text": [
      "Training Loss: 20.2805:  88%|████████▊ | 5752/6500 [10:57<09:24,  1.33it/s]"
     ]
    },
    {
     "name": "stdout",
     "output_type": "stream",
     "text": [
      "📉 Step 5750: Validation Loss = 17.8454\n"
     ]
    },
    {
     "name": "stderr",
     "output_type": "stream",
     "text": [
      "Training Loss: 20.0955:  92%|█████████▏| 6002/6500 [11:26<06:16,  1.32it/s]"
     ]
    },
    {
     "name": "stdout",
     "output_type": "stream",
     "text": [
      "📉 Step 6000: Validation Loss = 17.7508\n"
     ]
    },
    {
     "name": "stderr",
     "output_type": "stream",
     "text": [
      "Training Loss: 19.9378:  96%|█████████▌| 6252/6500 [11:54<03:06,  1.33it/s]"
     ]
    },
    {
     "name": "stdout",
     "output_type": "stream",
     "text": [
      "📉 Step 6250: Validation Loss = 17.6710\n"
     ]
    },
    {
     "name": "stderr",
     "output_type": "stream",
     "text": [
      "                                                                           \r"
     ]
    },
    {
     "name": "stdout",
     "output_type": "stream",
     "text": [
      "📉 Step 6500: Validation Loss = 17.5947\n",
      "✅ Epoch 1: Average Training Loss = 19.7815\n"
     ]
    },
    {
     "name": "stderr",
     "output_type": "stream",
     "text": [
      "                                                                           \r"
     ]
    },
    {
     "name": "stdout",
     "output_type": "stream",
     "text": [
      "📉 Epoch 1: Final Validation Loss = 17.5947\n",
      "\n",
      "🔄 Epoch 2/2 - Training...\n"
     ]
    },
    {
     "name": "stderr",
     "output_type": "stream",
     "text": [
      "Training Loss: 26.2582:   4%|▍         | 252/6500 [00:29<1:18:37,  1.32it/s]"
     ]
    },
    {
     "name": "stdout",
     "output_type": "stream",
     "text": [
      "📉 Step 6750: Validation Loss = 17.9929\n"
     ]
    },
    {
     "name": "stderr",
     "output_type": "stream",
     "text": [
      "Training Loss: 20.8962:   8%|▊         | 502/6500 [00:58<1:15:25,  1.33it/s]"
     ]
    },
    {
     "name": "stdout",
     "output_type": "stream",
     "text": [
      "📉 Step 7000: Validation Loss = 17.4880\n"
     ]
    },
    {
     "name": "stderr",
     "output_type": "stream",
     "text": [
      "Training Loss: 19.1643:  12%|█▏        | 752/6500 [01:27<1:12:13,  1.33it/s]"
     ]
    },
    {
     "name": "stdout",
     "output_type": "stream",
     "text": [
      "📉 Step 7250: Validation Loss = 17.3049\n"
     ]
    },
    {
     "name": "stderr",
     "output_type": "stream",
     "text": [
      "Training Loss: 18.2701:  15%|█▌        | 1002/6500 [01:56<1:08:50,  1.33it/s]"
     ]
    },
    {
     "name": "stdout",
     "output_type": "stream",
     "text": [
      "📉 Step 7500: Validation Loss = 17.2092\n"
     ]
    },
    {
     "name": "stderr",
     "output_type": "stream",
     "text": [
      "Training Loss: 17.6510:  19%|█▉        | 1252/6500 [02:24<1:04:46,  1.35it/s]"
     ]
    },
    {
     "name": "stdout",
     "output_type": "stream",
     "text": [
      "📉 Step 7750: Validation Loss = 17.1283\n"
     ]
    },
    {
     "name": "stderr",
     "output_type": "stream",
     "text": [
      "Training Loss: 17.3499:  23%|██▎       | 1502/6500 [02:52<1:01:48,  1.35it/s]"
     ]
    },
    {
     "name": "stdout",
     "output_type": "stream",
     "text": [
      "📉 Step 8000: Validation Loss = 17.0768\n"
     ]
    },
    {
     "name": "stderr",
     "output_type": "stream",
     "text": [
      "Training Loss: 17.0675:  27%|██▋       | 1752/6500 [03:21<59:09,  1.34it/s]  "
     ]
    },
    {
     "name": "stdout",
     "output_type": "stream",
     "text": [
      "📉 Step 8250: Validation Loss = 17.0182\n"
     ]
    },
    {
     "name": "stderr",
     "output_type": "stream",
     "text": [
      "Training Loss: 16.8149:  31%|███       | 2002/6500 [03:49<55:57,  1.34it/s]  "
     ]
    },
    {
     "name": "stdout",
     "output_type": "stream",
     "text": [
      "📉 Step 8500: Validation Loss = 16.9935\n"
     ]
    },
    {
     "name": "stderr",
     "output_type": "stream",
     "text": [
      "Training Loss: 16.6547:  35%|███▍      | 2252/6500 [04:18<53:02,  1.33it/s]  "
     ]
    },
    {
     "name": "stdout",
     "output_type": "stream",
     "text": [
      "📉 Step 8750: Validation Loss = 16.9283\n"
     ]
    },
    {
     "name": "stderr",
     "output_type": "stream",
     "text": [
      "Training Loss: 16.4491:  38%|███▊      | 2502/6500 [04:46<49:47,  1.34it/s]  "
     ]
    },
    {
     "name": "stdout",
     "output_type": "stream",
     "text": [
      "📉 Step 9000: Validation Loss = 16.8845\n"
     ]
    },
    {
     "name": "stderr",
     "output_type": "stream",
     "text": [
      "Training Loss: 16.3223:  42%|████▏     | 2752/6500 [05:15<46:29,  1.34it/s]  "
     ]
    },
    {
     "name": "stdout",
     "output_type": "stream",
     "text": [
      "📉 Step 9250: Validation Loss = 16.8245\n"
     ]
    },
    {
     "name": "stderr",
     "output_type": "stream",
     "text": [
      "Training Loss: 16.2026:  46%|████▌     | 3002/6500 [05:43<43:28,  1.34it/s]"
     ]
    },
    {
     "name": "stdout",
     "output_type": "stream",
     "text": [
      "📉 Step 9500: Validation Loss = 16.7793\n"
     ]
    },
    {
     "name": "stderr",
     "output_type": "stream",
     "text": [
      "Training Loss: 16.1298:  50%|█████     | 3252/6500 [06:12<40:36,  1.33it/s]"
     ]
    },
    {
     "name": "stdout",
     "output_type": "stream",
     "text": [
      "📉 Step 9750: Validation Loss = 16.7223\n"
     ]
    },
    {
     "name": "stderr",
     "output_type": "stream",
     "text": [
      "Training Loss: 16.0448:  54%|█████▍    | 3502/6500 [06:40<37:20,  1.34it/s]"
     ]
    },
    {
     "name": "stdout",
     "output_type": "stream",
     "text": [
      "📉 Step 10000: Validation Loss = 16.6651\n"
     ]
    },
    {
     "name": "stderr",
     "output_type": "stream",
     "text": [
      "Training Loss: 15.9682:  58%|█████▊    | 3752/6500 [07:09<34:23,  1.33it/s]"
     ]
    },
    {
     "name": "stdout",
     "output_type": "stream",
     "text": [
      "📉 Step 10250: Validation Loss = 16.6461\n"
     ]
    },
    {
     "name": "stderr",
     "output_type": "stream",
     "text": [
      "Training Loss: 15.9005:  62%|██████▏   | 4002/6500 [07:37<30:54,  1.35it/s]"
     ]
    },
    {
     "name": "stdout",
     "output_type": "stream",
     "text": [
      "📉 Step 10500: Validation Loss = 16.5967\n"
     ]
    },
    {
     "name": "stderr",
     "output_type": "stream",
     "text": [
      "Training Loss: 15.8334:  65%|██████▌   | 4252/6500 [08:06<27:55,  1.34it/s]"
     ]
    },
    {
     "name": "stdout",
     "output_type": "stream",
     "text": [
      "📉 Step 10750: Validation Loss = 16.5677\n"
     ]
    },
    {
     "name": "stderr",
     "output_type": "stream",
     "text": [
      "Training Loss: 15.8102:  69%|██████▉   | 4502/6500 [08:34<24:48,  1.34it/s]"
     ]
    },
    {
     "name": "stdout",
     "output_type": "stream",
     "text": [
      "📉 Step 11000: Validation Loss = 16.5363\n"
     ]
    },
    {
     "name": "stderr",
     "output_type": "stream",
     "text": [
      "Training Loss: 15.7518:  73%|███████▎  | 4752/6500 [09:03<21:40,  1.34it/s]"
     ]
    },
    {
     "name": "stdout",
     "output_type": "stream",
     "text": [
      "📉 Step 11250: Validation Loss = 16.4968\n"
     ]
    },
    {
     "name": "stderr",
     "output_type": "stream",
     "text": [
      "Training Loss: 15.6997:  77%|███████▋  | 5002/6500 [09:31<18:28,  1.35it/s]"
     ]
    },
    {
     "name": "stdout",
     "output_type": "stream",
     "text": [
      "📉 Step 11500: Validation Loss = 16.4594\n"
     ]
    },
    {
     "name": "stderr",
     "output_type": "stream",
     "text": [
      "Training Loss: 15.6517:  81%|████████  | 5252/6500 [09:59<15:22,  1.35it/s]"
     ]
    },
    {
     "name": "stdout",
     "output_type": "stream",
     "text": [
      "📉 Step 11750: Validation Loss = 16.4104\n"
     ]
    },
    {
     "name": "stderr",
     "output_type": "stream",
     "text": [
      "Training Loss: 15.6196:  85%|████████▍ | 5502/6500 [10:28<12:16,  1.36it/s]"
     ]
    },
    {
     "name": "stdout",
     "output_type": "stream",
     "text": [
      "📉 Step 12000: Validation Loss = 16.3992\n"
     ]
    },
    {
     "name": "stderr",
     "output_type": "stream",
     "text": [
      "Training Loss: 15.5777:  88%|████████▊ | 5752/6500 [10:56<09:15,  1.35it/s]"
     ]
    },
    {
     "name": "stdout",
     "output_type": "stream",
     "text": [
      "📉 Step 12250: Validation Loss = 16.3332\n"
     ]
    },
    {
     "name": "stderr",
     "output_type": "stream",
     "text": [
      "Training Loss: 15.5297:  92%|█████████▏| 6002/6500 [11:25<06:10,  1.35it/s]"
     ]
    },
    {
     "name": "stdout",
     "output_type": "stream",
     "text": [
      "📉 Step 12500: Validation Loss = 16.3135\n"
     ]
    },
    {
     "name": "stderr",
     "output_type": "stream",
     "text": [
      "Training Loss: 15.5069:  96%|█████████▌| 6252/6500 [11:53<03:04,  1.34it/s]"
     ]
    },
    {
     "name": "stdout",
     "output_type": "stream",
     "text": [
      "📉 Step 12750: Validation Loss = 16.2980\n"
     ]
    },
    {
     "name": "stderr",
     "output_type": "stream",
     "text": [
      "                                                                           \r"
     ]
    },
    {
     "name": "stdout",
     "output_type": "stream",
     "text": [
      "📉 Step 13000: Validation Loss = 16.2592\n",
      "✅ Epoch 2: Average Training Loss = 15.4543\n"
     ]
    },
    {
     "name": "stderr",
     "output_type": "stream",
     "text": [
      "                                                                           "
     ]
    },
    {
     "name": "stdout",
     "output_type": "stream",
     "text": [
      "📉 Epoch 2: Final Validation Loss = 16.2592\n"
     ]
    },
    {
     "name": "stderr",
     "output_type": "stream",
     "text": [
      "\r"
     ]
    }
   ],
   "source": [
    "steps, train_losses, val_losses = kd.train_kd(model, teacher_model, tokenized_train_datasets, tokenized_val_datasets, \n",
    "                                            batch_size=4, num_epochs=2, accumulation_steps=8, lr=5e-5, \n",
    "                                            temperature=1.0, device='cuda', log_interval=10, val_interval=250)"
   ]
  },
  {
   "cell_type": "code",
   "execution_count": 11,
   "metadata": {},
   "outputs": [],
   "source": [
    "metrics_path = \"saved_metrics/kd_metrics.json\"\n",
    "model_name = \"width\"\n",
    "\n",
    "# Load existing metrics if the file exists, otherwise start with an empty dict\n",
    "if os.path.exists(metrics_path):\n",
    "    with open(metrics_path, \"r\") as f:\n",
    "        kd_metrics = json.load(f)\n",
    "else:\n",
    "    kd_metrics = {}\n",
    "\n",
    "kd_metrics.setdefault(model_name, {})[model_name] = {\"steps\": steps, \"train_losses\": train_losses, \"val_losses\": val_losses}\n",
    "\n",
    "# Save updated metrics back to the file\n",
    "os.makedirs(\"saved_metrics\", exist_ok=True)\n",
    "with open(metrics_path, \"w\") as f:\n",
    "    json.dump(kd_metrics, f, indent=4)"
   ]
  },
  {
   "cell_type": "code",
   "execution_count": 12,
   "metadata": {},
   "outputs": [
    {
     "name": "stderr",
     "output_type": "stream",
     "text": [
      "Token indices sequence length is longer than the specified maximum sequence length for this model (287644 > 1024). Running this sequence through the model will result in indexing errors\n",
      "100%|█████████▉| 280/281 [00:13<00:00, 20.49it/s]\n"
     ]
    },
    {
     "data": {
      "text/plain": [
       "42.33681106567383"
      ]
     },
     "execution_count": 12,
     "metadata": {},
     "output_type": "execute_result"
    }
   ],
   "source": [
    "evaluate_perplexity(model, tokenizer, stride=1024).item()"
   ]
  },
  {
   "cell_type": "code",
   "execution_count": 13,
   "metadata": {},
   "outputs": [
    {
     "name": "stderr",
     "output_type": "stream",
     "text": [
      " 99%|█████████▉| 205/207 [00:04<00:00, 43.80it/s]\n"
     ]
    },
    {
     "data": {
      "text/plain": [
       "tensor(41.9827, device='cuda:0')"
      ]
     },
     "execution_count": 13,
     "metadata": {},
     "output_type": "execute_result"
    }
   ],
   "source": [
    "test_dataset = load_dataset(\"ptb_text_only\", split=\"test\")\n",
    "test_dataset = test_dataset.rename_columns({\"sentence\": \"text\"})\n",
    "evaluate_perplexity(model, tokenizer, test=test_dataset, stride=512)"
   ]
  },
  {
   "cell_type": "code",
   "execution_count": 14,
   "metadata": {},
   "outputs": [
    {
     "name": "stderr",
     "output_type": "stream",
     "text": [
      " 99%|█████████▉| 1286/1294 [00:37<00:00, 34.04it/s]\n"
     ]
    },
    {
     "data": {
      "text/plain": [
       "tensor(22.6066, device='cuda:0')"
      ]
     },
     "execution_count": 14,
     "metadata": {},
     "output_type": "execute_result"
    }
   ],
   "source": [
    "from itertools import islice\n",
    "from datasets import Dataset\n",
    "\n",
    "bookcorpus = load_dataset(\"bookcorpus\", split=\"train\", streaming=True, trust_remote_code=True)\n",
    "bookcorpus_test = list(islice(bookcorpus, 10_000))\n",
    "bookcorpus_test_dataset = Dataset.from_list(bookcorpus_test)\n",
    "\n",
    "evaluate_perplexity(model, tokenizer, test=bookcorpus_test_dataset, stride=128)"
   ]
  },
  {
   "cell_type": "code",
   "execution_count": 15,
   "metadata": {},
   "outputs": [
    {
     "name": "stderr",
     "output_type": "stream",
     "text": [
      "100%|█████████▉| 419/420 [00:14<00:00, 28.64it/s]\n"
     ]
    },
    {
     "data": {
      "text/plain": [
       "tensor(58.6653, device='cuda:0')"
      ]
     },
     "execution_count": 15,
     "metadata": {},
     "output_type": "execute_result"
    }
   ],
   "source": [
    "test_dataset = load_dataset(\"lambada\", split=\"test\", trust_remote_code=True)\n",
    "evaluate_perplexity(model, tokenizer, test=test_dataset, stride=1024)"
   ]
  },
  {
   "cell_type": "code",
   "execution_count": null,
   "metadata": {},
   "outputs": [],
   "source": []
  }
 ],
 "metadata": {
  "kernelspec": {
   "display_name": "colab",
   "language": "python",
   "name": "python3"
  },
  "language_info": {
   "codemirror_mode": {
    "name": "ipython",
    "version": 3
   },
   "file_extension": ".py",
   "mimetype": "text/x-python",
   "name": "python",
   "nbconvert_exporter": "python",
   "pygments_lexer": "ipython3",
   "version": "3.10.16"
  }
 },
 "nbformat": 4,
 "nbformat_minor": 2
}
