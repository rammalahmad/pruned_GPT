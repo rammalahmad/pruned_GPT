{
 "cells": [
  {
   "cell_type": "code",
   "execution_count": 1,
   "metadata": {},
   "outputs": [
    {
     "name": "stderr",
     "output_type": "stream",
     "text": [
      "/users/eleves-a/2021/ahmad.rammal/miniconda3/envs/colab/lib/python3.10/site-packages/tqdm/auto.py:21: TqdmWarning: IProgress not found. Please update jupyter and ipywidgets. See https://ipywidgets.readthedocs.io/en/stable/user_install.html\n",
      "  from .autonotebook import tqdm as notebook_tqdm\n"
     ]
    }
   ],
   "source": [
    "from pruning import *\n",
    "from lw_retrain_utils import *\n",
    "from evaluation import *\n",
    "import json\n",
    "import copy \n",
    "from datasets import load_dataset\n",
    "import os\n",
    "import gc\n",
    "import shutil"
   ]
  },
  {
   "cell_type": "code",
   "execution_count": 2,
   "metadata": {},
   "outputs": [],
   "source": [
    "model_name = \"openai-community/gpt2-medium\"\n",
    "model, tokenizer = load_model(model_name)"
   ]
  },
  {
   "cell_type": "code",
   "execution_count": 3,
   "metadata": {},
   "outputs": [
    {
     "name": "stderr",
     "output_type": "stream",
     "text": [
      "100%|██████████| 32/32 [00:09<00:00,  3.47it/s]\n"
     ]
    }
   ],
   "source": [
    "dataset = load_dataset(\"stas/openwebtext-10k\", trust_remote_code=True)\n",
    "calibration_pass(model=model,\n",
    "                 tokenizer=tokenizer,\n",
    "                 dataset=dataset,\n",
    "                 sample_size=128,\n",
    "                 batch_size=4,)"
   ]
  },
  {
   "cell_type": "code",
   "execution_count": null,
   "metadata": {},
   "outputs": [
    {
     "name": "stdout",
     "output_type": "stream",
     "text": [
      "254104576\n",
      "Evaluating perplexity for num_heads=12_mlp_exp=2.5_embed_size=1024 before training...\n"
     ]
    },
    {
     "name": "stderr",
     "output_type": "stream",
     "text": [
      "Token indices sequence length is longer than the specified maximum sequence length for this model (287644 > 1024). Running this sequence through the model will result in indexing errors\n",
      "  0%|          | 0/281 [00:00<?, ?it/s]`loss_type=None` was set in the config but it is unrecognised.Using the default loss: `ForCausalLMLoss`.\n",
      "100%|█████████▉| 280/281 [00:04<00:00, 57.01it/s]\n"
     ]
    },
    {
     "name": "stdout",
     "output_type": "stream",
     "text": [
      "Skipping training for num_heads=12_mlp_exp=2.5_embed_size=1024, already exists.\n"
     ]
    },
    {
     "data": {
      "text/html": [
       "\n",
       "    <div>\n",
       "      \n",
       "      <progress value='41' max='280' style='width:300px; height:20px; vertical-align: middle;'></progress>\n",
       "      [ 41/280 03:15 < 20:01, 0.20 it/s, Epoch 0.28/2]\n",
       "    </div>\n",
       "    <table border=\"1\" class=\"dataframe\">\n",
       "  <thead>\n",
       " <tr style=\"text-align: left;\">\n",
       "      <th>Step</th>\n",
       "      <th>Training Loss</th>\n",
       "      <th>Validation Loss</th>\n",
       "    </tr>\n",
       "  </thead>\n",
       "  <tbody>\n",
       "    <tr>\n",
       "      <td>30</td>\n",
       "      <td>4.719500</td>\n",
       "      <td>4.164433</td>\n",
       "    </tr>\n",
       "  </tbody>\n",
       "</table><p>"
      ],
      "text/plain": [
       "<IPython.core.display.HTML object>"
      ]
     },
     "metadata": {},
     "output_type": "display_data"
    }
   ],
   "source": [
    "tokenized_dataset = tokenize_dataset(tokenizer, dataset)\n",
    "\n",
    "os.makedirs(\"./saved_metrics\", exist_ok=True)\n",
    "\n",
    "training_metrics_path = \"./saved_metrics/training_metrics.json\"\n",
    "eval_metrics_path = \"./saved_metrics/eval_metrics.json\"\n",
    "\n",
    "if os.path.exists(training_metrics_path):\n",
    "    with open(training_metrics_path, \"r\") as f:\n",
    "        training_metrics = json.load(f)\n",
    "else:\n",
    "    training_metrics = {}\n",
    "\n",
    "if os.path.exists(eval_metrics_path):\n",
    "    with open(eval_metrics_path, \"r\") as f:\n",
    "        eval_metrics = json.load(f)\n",
    "else:\n",
    "    eval_metrics = {}\n",
    "\n",
    "num_heads = 12\n",
    "mult_hidden = 2.5\n",
    "embed_size = 1024\n",
    "prune_model_width(model, int(mult_hidden * embed_size), num_heads, embed_size)\n",
    "print(sum(t.numel() for t in model.parameters()))\n",
    "param_key = f\"num_heads={num_heads}_mlp_exp={mult_hidden}_embed_size={embed_size}\"\n",
    "gc.collect()\n",
    "\n",
    "if param_key+\"_before_training\" in eval_metrics:\n",
    "    print(f\"Skipping evaluation for {param_key}, already exists.\")\n",
    "else:\n",
    "    print(f\"Evaluating perplexity for {param_key} before training...\")\n",
    "    eval_metrics[param_key+\"_before_training\"] = evaluate_perplexity(model, tokenizer, stride=1024).item()\n",
    "\n",
    "    with open(eval_metrics_path, \"w\") as f:\n",
    "        json.dump(eval_metrics, f, indent=4)\n",
    "if param_key in training_metrics:\n",
    "    print(f\"Skipping training for {param_key}, already exists.\")\n",
    "else:\n",
    "    print(f\"Training model for {param_key}...\")\n",
    "\n",
    "    \n",
    "trainer = trainer_gpt2(model, tokenizer, tokenized_dataset, batch_size=4, num_epochs=2, lr=2e-4) #, output_dir=f\"./saved_models/{param_key}\")\n",
    "trainer.train()\n",
    "    # training_metrics[param_key] = trainer.state.log_history\n",
    "\n",
    "    # with open(training_metrics_path, \"w\") as f:\n",
    "    #     json.dump(training_metrics, f, indent=4)\n",
    "    # torch.cuda.empty_cache()\n",
    "    # gc.collect()\n",
    "    \n",
    "if param_key in eval_metrics:\n",
    "    print(f\"Skipping evaluation for {param_key}, already exists.\")\n",
    "else:\n",
    "    print(f\"Evaluating perplexity for {param_key}...\")\n",
    "    eval_metrics[param_key] = evaluate_perplexity(model, tokenizer, stride=1024).item()\n",
    "\n",
    "    with open(eval_metrics_path, \"w\") as f:\n",
    "        json.dump(eval_metrics, f, indent=4)\n",
    "\n",
    "torch.cuda.empty_cache()\n",
    "gc.collect()"
   ]
  },
  {
   "cell_type": "code",
   "execution_count": null,
   "metadata": {},
   "outputs": [],
   "source": [
    "output_dir=f\"./saved_models/{param_key}\"\n",
    "\n",
    "output_dir = f\"./saved_models/{param_key}\"\n",
    "os.makedirs(output_dir, exist_ok=True)\n",
    "\n",
    "torch.save(model, f\"{output_dir}/model_lw_retrain.pth\")\n",
    "torch.save(model.state_dict(), f\"{output_dir}/model_lw_retrain_state_dict.pth\")"
   ]
  },
  {
   "cell_type": "markdown",
   "metadata": {},
   "source": [
    "## Knowledge Distillation"
   ]
  },
  {
   "cell_type": "code",
   "execution_count": null,
   "metadata": {},
   "outputs": [],
   "source": [
    "import torch\n",
    "from transformers import AdamW\n",
    "from torch.nn import functional as F\n",
    "from torch.utils.data import DataLoader\n",
    "import knowledge_distillation as kd\n",
    "\n",
    "\n",
    "# import knowledge_distillation  # Import the module\n",
    "from evaluation import *"
   ]
  },
  {
   "cell_type": "code",
   "execution_count": null,
   "metadata": {},
   "outputs": [],
   "source": [
    "model_name = \"openai-community/gpt2-medium\"\n",
    "teacher_model, tokenizer = load_model(model_name)\n",
    "teacher_model.eval()\n",
    "print('Models loaded successfully')"
   ]
  },
  {
   "cell_type": "code",
   "execution_count": null,
   "metadata": {},
   "outputs": [],
   "source": [
    "dataset = load_dataset(\"deven367/babylm-10M-cbt\", trust_remote_code=True)\n",
    "train_dataset = dataset['train']\n",
    "val_dataset = dataset['valid'].select(range(500))"
   ]
  },
  {
   "cell_type": "code",
   "execution_count": null,
   "metadata": {},
   "outputs": [],
   "source": [
    "\n",
    "def tokenize_function(examples):\n",
    "    tokenized = tokenizer(\n",
    "        examples[\"text\"],\n",
    "        padding=\"max_length\",\n",
    "        truncation=True,\n",
    "        max_length=256,\n",
    "        return_tensors=\"pt\"\n",
    "    )\n",
    "\n",
    "    # Create input_ids and labels for language modeling\n",
    "    input_ids = tokenized[\"input_ids\"]\n",
    "    labels = input_ids.clone()\n",
    "\n",
    "    return {\n",
    "        \"input_ids\": input_ids,\n",
    "        \"attention_mask\": tokenized[\"attention_mask\"],\n",
    "        \"labels\": labels\n",
    "    }\n",
    "    \n",
    "print(\"Tokenizing dataset...\")\n",
    "tokenized_train_datasets = train_dataset.map(\n",
    "    tokenize_function,\n",
    "    batched=True,\n",
    "    batch_size=32,  # Smaller batch size for mapping\n",
    "    remove_columns=train_dataset.column_names,\n",
    "    desc=\"Processing examples\",\n",
    "    load_from_cache_file=False  # Disable caching for debugging\n",
    ")\n",
    "tokenized_val_datasets = val_dataset.map(\n",
    "    tokenize_function,\n",
    "    batched=True,\n",
    "    batch_size=32,  # Smaller batch size for mapping\n",
    "    remove_columns=val_dataset.column_names,\n",
    "    desc=\"Processing examples\",\n",
    "    load_from_cache_file=False  # Disable caching for debugging\n",
    ")\n",
    "tokenized_train_datasets.set_format(\"torch\")\n",
    "tokenized_val_datasets.set_format(\"torch\")"
   ]
  },
  {
   "cell_type": "code",
   "execution_count": null,
   "metadata": {},
   "outputs": [],
   "source": [
    "steps, train_losses, val_losses = kd.train_kd(model, teacher_model, tokenized_train_datasets, tokenized_val_datasets, \n",
    "                                            batch_size=4, num_epochs=2, accumulation_steps=8, lr=5e-5, \n",
    "                                            temperature=1.0, device='cuda', log_interval=10, val_interval=250)"
   ]
  },
  {
   "cell_type": "code",
   "execution_count": null,
   "metadata": {},
   "outputs": [],
   "source": [
    "metrics_path = \"saved_metrics/kd_metrics.json\"\n",
    "model_name = \"width\"\n",
    "\n",
    "# Load existing metrics if the file exists, otherwise start with an empty dict\n",
    "if os.path.exists(metrics_path):\n",
    "    with open(metrics_path, \"r\") as f:\n",
    "        kd_metrics = json.load(f)\n",
    "else:\n",
    "    kd_metrics = {}\n",
    "\n",
    "kd_metrics.setdefault(model_name, {})[model_name] = {\"steps\": steps, \"train_losses\": train_losses, \"val_losses\": val_losses}\n",
    "\n",
    "# Save updated metrics back to the file\n",
    "os.makedirs(\"saved_metrics\", exist_ok=True)\n",
    "with open(metrics_path, \"w\") as f:\n",
    "    json.dump(kd_metrics, f, indent=4)"
   ]
  },
  {
   "cell_type": "code",
   "execution_count": null,
   "metadata": {},
   "outputs": [],
   "source": [
    "evaluate_perplexity(model, tokenizer, stride=1024).item()"
   ]
  },
  {
   "cell_type": "code",
   "execution_count": null,
   "metadata": {},
   "outputs": [],
   "source": [
    "test_dataset = load_dataset(\"ptb_text_only\", split=\"test\")\n",
    "test_dataset = test_dataset.rename_columns({\"sentence\": \"text\"})\n",
    "evaluate_perplexity(model, tokenizer, test=test_dataset, stride=512)"
   ]
  },
  {
   "cell_type": "code",
   "execution_count": null,
   "metadata": {},
   "outputs": [],
   "source": [
    "from itertools import islice\n",
    "from datasets import Dataset\n",
    "\n",
    "bookcorpus = load_dataset(\"bookcorpus\", split=\"train\", streaming=True, trust_remote_code=True)\n",
    "bookcorpus_test = list(islice(bookcorpus, 10_000))\n",
    "bookcorpus_test_dataset = Dataset.from_list(bookcorpus_test)\n",
    "\n",
    "evaluate_perplexity(model, tokenizer, test=bookcorpus_test_dataset, stride=128)"
   ]
  },
  {
   "cell_type": "code",
   "execution_count": null,
   "metadata": {},
   "outputs": [],
   "source": [
    "test_dataset = load_dataset(\"lambada\", split=\"test\", trust_remote_code=True)\n",
    "evaluate_perplexity(model, tokenizer, test=test_dataset, stride=1024)"
   ]
  },
  {
   "cell_type": "code",
   "execution_count": null,
   "metadata": {},
   "outputs": [],
   "source": []
  }
 ],
 "metadata": {
  "kernelspec": {
   "display_name": "colab",
   "language": "python",
   "name": "python3"
  },
  "language_info": {
   "codemirror_mode": {
    "name": "ipython",
    "version": 3
   },
   "file_extension": ".py",
   "mimetype": "text/x-python",
   "name": "python",
   "nbconvert_exporter": "python",
   "pygments_lexer": "ipython3",
   "version": "3.10.16"
  }
 },
 "nbformat": 4,
 "nbformat_minor": 2
}
