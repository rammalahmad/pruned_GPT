{
 "cells": [
  {
   "cell_type": "code",
   "execution_count": 1,
   "metadata": {},
   "outputs": [
    {
     "name": "stderr",
     "output_type": "stream",
     "text": [
      "/users/eleves-a/2021/ahmad.rammal/miniconda3/envs/colab/lib/python3.10/site-packages/tqdm/auto.py:21: TqdmWarning: IProgress not found. Please update jupyter and ipywidgets. See https://ipywidgets.readthedocs.io/en/stable/user_install.html\n",
      "  from .autonotebook import tqdm as notebook_tqdm\n"
     ]
    }
   ],
   "source": [
    "from pruning import *\n",
    "from lw_retrain_utils import *\n",
    "from evaluation import *\n",
    "import json\n",
    "import copy \n",
    "from datasets import load_dataset\n",
    "import os\n",
    "import gc\n",
    "import shutil"
   ]
  },
  {
   "cell_type": "code",
   "execution_count": 2,
   "metadata": {},
   "outputs": [],
   "source": [
    "model_name = \"openai-community/gpt2-medium\"\n",
    "model, tokenizer = load_model(model_name)"
   ]
  },
  {
   "cell_type": "code",
   "execution_count": 3,
   "metadata": {},
   "outputs": [
    {
     "name": "stderr",
     "output_type": "stream",
     "text": [
      " 78%|███████▊  | 25/32 [00:09<00:03,  1.93it/s]"
     ]
    },
    {
     "ename": "",
     "evalue": "",
     "output_type": "error",
     "traceback": [
      "\u001b[1;31mThe Kernel crashed while executing code in the current cell or a previous cell. \n",
      "\u001b[1;31mPlease review the code in the cell(s) to identify a possible cause of the failure. \n",
      "\u001b[1;31mClick <a href='https://aka.ms/vscodeJupyterKernelCrash'>here</a> for more info. \n",
      "\u001b[1;31mView Jupyter <a href='command:jupyter.viewOutput'>log</a> for further details."
     ]
    }
   ],
   "source": [
    "dataset = load_dataset(\"stas/openwebtext-10k\", trust_remote_code=True)\n",
    "calibration_pass(model=model,\n",
    "                 tokenizer=tokenizer,\n",
    "                 dataset=dataset,\n",
    "                 sample_size=128,\n",
    "                 batch_size=4,)"
   ]
  },
  {
   "cell_type": "code",
   "execution_count": null,
   "metadata": {},
   "outputs": [
    {
     "name": "stderr",
     "output_type": "stream",
     "text": [
      "Map:   0%|          | 0/9000 [00:00<?, ? examples/s]"
     ]
    },
    {
     "name": "stderr",
     "output_type": "stream",
     "text": [
      "Map: 100%|██████████| 9000/9000 [00:04<00:00, 2048.49 examples/s]\n"
     ]
    },
    {
     "name": "stdout",
     "output_type": "stream",
     "text": [
      "262469632\n",
      "Evaluating perplexity for depth=20_num_heads=12_mlp_exp=3.5_embed_size=1024 before training...\n"
     ]
    },
    {
     "name": "stderr",
     "output_type": "stream",
     "text": [
      "100%|█████████▉| 280/281 [00:04<00:00, 57.96it/s]\n"
     ]
    },
    {
     "name": "stdout",
     "output_type": "stream",
     "text": [
      "Perplexity on Wikitext-2: 85.16\n",
      "Training model for depth=20_num_heads=12_mlp_exp=3.5_embed_size=1024...\n"
     ]
    },
    {
     "data": {
      "text/html": [
       "\n",
       "    <div>\n",
       "      \n",
       "      <progress value='280' max='280' style='width:300px; height:20px; vertical-align: middle;'></progress>\n",
       "      [280/280 24:02, Epoch 1/2]\n",
       "    </div>\n",
       "    <table border=\"1\" class=\"dataframe\">\n",
       "  <thead>\n",
       " <tr style=\"text-align: left;\">\n",
       "      <th>Step</th>\n",
       "      <th>Training Loss</th>\n",
       "      <th>Validation Loss</th>\n",
       "    </tr>\n",
       "  </thead>\n",
       "  <tbody>\n",
       "    <tr>\n",
       "      <td>30</td>\n",
       "      <td>3.484400</td>\n",
       "      <td>3.121555</td>\n",
       "    </tr>\n",
       "    <tr>\n",
       "      <td>60</td>\n",
       "      <td>3.262300</td>\n",
       "      <td>3.037397</td>\n",
       "    </tr>\n",
       "    <tr>\n",
       "      <td>90</td>\n",
       "      <td>3.213700</td>\n",
       "      <td>3.007232</td>\n",
       "    </tr>\n",
       "    <tr>\n",
       "      <td>120</td>\n",
       "      <td>3.195500</td>\n",
       "      <td>2.989893</td>\n",
       "    </tr>\n",
       "    <tr>\n",
       "      <td>150</td>\n",
       "      <td>3.147300</td>\n",
       "      <td>2.985213</td>\n",
       "    </tr>\n",
       "    <tr>\n",
       "      <td>180</td>\n",
       "      <td>3.136500</td>\n",
       "      <td>2.980379</td>\n",
       "    </tr>\n",
       "    <tr>\n",
       "      <td>210</td>\n",
       "      <td>3.144700</td>\n",
       "      <td>2.979733</td>\n",
       "    </tr>\n",
       "    <tr>\n",
       "      <td>240</td>\n",
       "      <td>3.117700</td>\n",
       "      <td>2.979151</td>\n",
       "    </tr>\n",
       "    <tr>\n",
       "      <td>270</td>\n",
       "      <td>3.125000</td>\n",
       "      <td>2.979301</td>\n",
       "    </tr>\n",
       "  </tbody>\n",
       "</table><p>"
      ],
      "text/plain": [
       "<IPython.core.display.HTML object>"
      ]
     },
     "metadata": {},
     "output_type": "display_data"
    },
    {
     "name": "stdout",
     "output_type": "stream",
     "text": [
      "Evaluating perplexity for depth=20_num_heads=12_mlp_exp=3.5_embed_size=1024...\n"
     ]
    },
    {
     "name": "stderr",
     "output_type": "stream",
     "text": [
      "100%|█████████▉| 280/281 [00:06<00:00, 41.41it/s]\n"
     ]
    },
    {
     "name": "stdout",
     "output_type": "stream",
     "text": [
      "Perplexity on Wikitext-2: 36.63\n"
     ]
    },
    {
     "data": {
      "text/plain": [
       "33"
      ]
     },
     "execution_count": 8,
     "metadata": {},
     "output_type": "execute_result"
    }
   ],
   "source": [
    "tokenized_dataset = tokenize_dataset(tokenizer, dataset)\n",
    "\n",
    "os.makedirs(\"./saved_metrics\", exist_ok=True)\n",
    "\n",
    "training_metrics_path = \"./saved_metrics/training_metrics.json\"\n",
    "eval_metrics_path = \"./saved_metrics/eval_metrics.json\"\n",
    "\n",
    "if os.path.exists(training_metrics_path):\n",
    "    with open(training_metrics_path, \"r\") as f:\n",
    "        training_metrics = json.load(f)\n",
    "else:\n",
    "    training_metrics = {}\n",
    "\n",
    "if os.path.exists(eval_metrics_path):\n",
    "    with open(eval_metrics_path, \"r\") as f:\n",
    "        eval_metrics = json.load(f)\n",
    "else:\n",
    "    eval_metrics = {}\n",
    "\n",
    "num_heads = 12\n",
    "mult_hidden = 2.5\n",
    "embed_size = 1024\n",
    "prune_model_width(model, int(mult_hidden * embed_size), num_heads, embed_size)\n",
    "print(sum(t.numel() for t in model.parameters()))\n",
    "param_key = f\"num_heads={num_heads}_mlp_exp={mult_hidden}_embed_size={embed_size}\"\n",
    "gc.collect()\n",
    "\n",
    "if param_key+\"_before_training\" in eval_metrics:\n",
    "    print(f\"Skipping evaluation for {param_key}, already exists.\")\n",
    "else:\n",
    "    print(f\"Evaluating perplexity for {param_key} before training...\")\n",
    "    eval_metrics[param_key+\"_before_training\"] = evaluate_perplexity(model, tokenizer, stride=1024).item()\n",
    "\n",
    "    # with open(eval_metrics_path, \"w\") as f:\n",
    "    #     json.dump(eval_metrics, f, indent=4)\n",
    "if param_key in training_metrics:\n",
    "    print(f\"Skipping training for {param_key}, already exists.\")\n",
    "else:\n",
    "    print(f\"Training model for {param_key}...\")\n",
    "\n",
    "    \n",
    "    trainer = trainer_gpt2(model, tokenizer, tokenized_dataset, batch_size=4, num_epochs=2, lr=2e-4, output_dir=f\"./saved_models/{param_key}\")\n",
    "    trainer.train()\n",
    "    training_metrics[param_key] = trainer.state.log_history\n",
    "\n",
    "    # with open(training_metrics_path, \"w\") as f:\n",
    "    #     json.dump(training_metrics, f, indent=4)\n",
    "    torch.cuda.empty_cache()\n",
    "    gc.collect()\n",
    "    \n",
    "if param_key in eval_metrics:\n",
    "    print(f\"Skipping evaluation for {param_key}, already exists.\")\n",
    "else:\n",
    "    print(f\"Evaluating perplexity for {param_key}...\")\n",
    "    eval_metrics[param_key] = evaluate_perplexity(model, tokenizer, stride=1024).item()\n",
    "\n",
    "    # with open(eval_metrics_path, \"w\") as f:\n",
    "    #     json.dump(eval_metrics, f, indent=4)\n",
    "\n",
    "torch.cuda.empty_cache()\n",
    "gc.collect()"
   ]
  },
  {
   "cell_type": "code",
   "execution_count": null,
   "metadata": {},
   "outputs": [],
   "source": []
  }
 ],
 "metadata": {
  "kernelspec": {
   "display_name": "colab",
   "language": "python",
   "name": "python3"
  },
  "language_info": {
   "codemirror_mode": {
    "name": "ipython",
    "version": 3
   },
   "file_extension": ".py",
   "mimetype": "text/x-python",
   "name": "python",
   "nbconvert_exporter": "python",
   "pygments_lexer": "ipython3",
   "version": "3.10.16"
  }
 },
 "nbformat": 4,
 "nbformat_minor": 2
}
