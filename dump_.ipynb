{
 "cells": [
  {
   "cell_type": "code",
   "execution_count": 1,
   "metadata": {},
   "outputs": [
    {
     "name": "stderr",
     "output_type": "stream",
     "text": [
      "/users/eleves-a/2021/ahmad.rammal/miniconda3/envs/colab/lib/python3.10/site-packages/tqdm/auto.py:21: TqdmWarning: IProgress not found. Please update jupyter and ipywidgets. See https://ipywidgets.readthedocs.io/en/stable/user_install.html\n",
      "  from .autonotebook import tqdm as notebook_tqdm\n"
     ]
    }
   ],
   "source": [
    "from lw_retrain_utils import *\n",
    "import json\n",
    "import copy \n",
    "from datasets import load_dataset\n",
    "import os\n",
    "from pruning import *\n",
    "import gc\n",
    "import shutil"
   ]
  },
  {
   "cell_type": "code",
   "execution_count": 2,
   "metadata": {},
   "outputs": [],
   "source": [
    "# Generate all the acceptable model sizes for the GPT-2\n",
    "\n",
    "# num_heads_options = [6, 8, 10, 12]\n",
    "# hidden_size_options = [2.5, 3, 3.5, 4]\n",
    "# embed_size_options = [1024]\n",
    "\n",
    "# param_range = (240_000_000, 270_000_000)\n",
    "\n",
    "# model_name = \"openai-community/gpt2-medium\"\n",
    "# base_model, tokenizer = load_model(model_name)\n",
    "\n",
    "# acceptable_params = find_acceptable_model_sizes(base_model, tokenizer, num_heads_options, hidden_size_options, embed_size_options, param_range)\n",
    "\n",
    "# Load params directly from file\n",
    "with open(\"pruning_params.json\", \"r\") as f:\n",
    "    acceptable_params = json.load(f)\n"
   ]
  },
  {
   "cell_type": "code",
   "execution_count": 3,
   "metadata": {},
   "outputs": [
    {
     "data": {
      "text/plain": [
       "[{'num_heads': 6,\n",
       "  'hidden_size': 3.5,\n",
       "  'embed_size': 1024,\n",
       "  'model_size': 266684416},\n",
       " {'num_heads': 10,\n",
       "  'hidden_size': 3,\n",
       "  'embed_size': 1024,\n",
       "  'model_size': 266690560},\n",
       " {'num_heads': 12,\n",
       "  'hidden_size': 2.5,\n",
       "  'embed_size': 1024,\n",
       "  'model_size': 254104576}]"
      ]
     },
     "execution_count": 3,
     "metadata": {},
     "output_type": "execute_result"
    }
   ],
   "source": [
    "acceptable_params"
   ]
  },
  {
   "cell_type": "code",
   "execution_count": 4,
   "metadata": {},
   "outputs": [
    {
     "name": "stderr",
     "output_type": "stream",
     "text": [
      "100%|██████████| 32/32 [00:10<00:00,  2.97it/s]\n"
     ]
    }
   ],
   "source": [
    "# Do forward pass \n",
    "dataset = load_dataset(\"stas/openwebtext-10k\", trust_remote_code=True)\n",
    "model_name = \"openai-community/gpt2-medium\"\n",
    "base_model, tokenizer = load_model(model_name)\n",
    "calibration_pass(model=base_model,\n",
    "                 tokenizer=tokenizer,\n",
    "                 dataset=dataset,\n",
    "                 sample_size=128,\n",
    "                 batch_size=4,)\n"
   ]
  },
  {
   "cell_type": "code",
   "execution_count": null,
   "metadata": {},
   "outputs": [],
   "source": [
    "# num_heads = 16\n",
    "# mult_hidden = 4096\n",
    "# embed_size = 1020\n",
    "\n",
    "# param_key = f\"num_heads={num_heads}_hidden_size={mult_hidden}_embed_size={embed_size}\"\n",
    "# model = copy.deepcopy(base_model)\n",
    "# prune_model_width(model, int(mult_hidden * embed_size), num_heads, embed_size)\n",
    "# print(sum(t.numel() for t in model.parameters()))\n",
    "# remove_all_forward_hooks(model)\n",
    "# torch.cuda.empty_cache()\n",
    "# gc.collect()\n",
    "\n",
    "# print(evaluate_perplexity(model, tokenizer, stride=1024).item())\n",
    "# del model"
   ]
  },
  {
   "cell_type": "code",
   "execution_count": 31,
   "metadata": {},
   "outputs": [],
   "source": [
    "from transformers import GPT2LMHeadModel, GPT2Config, GPT2Tokenizer\n",
    "\n",
    "config = GPT2Config()  # Default GPT-2 small config\n",
    "\n",
    "# Create an untrained GPT-2 model\n",
    "model = GPT2LMHeadModel(config).to('cuda')\n",
    "\n",
    "# Load tokenizer (for encoding/decoding text)\n",
    "tokenizer = GPT2Tokenizer.from_pretrained(\"gpt2\")\n",
    "tokenizer.pad_token = tokenizer.eos_token"
   ]
  },
  {
   "cell_type": "code",
   "execution_count": null,
   "metadata": {},
   "outputs": [
    {
     "name": "stderr",
     "output_type": "stream",
     "text": [
      "Map: 100%|██████████| 9000/9000 [00:49<00:00, 180.98 examples/s]\n",
      "Map: 100%|██████████| 1000/1000 [00:07<00:00, 141.80 examples/s]\n",
      "Token indices sequence length is longer than the specified maximum sequence length for this model (287644 > 1024). Running this sequence through the model will result in indexing errors\n",
      "100%|█████████▉| 280/281 [00:10<00:00, 27.40it/s]\n"
     ]
    },
    {
     "name": "stdout",
     "output_type": "stream",
     "text": [
      "Perplexity on Wikitext-2: 54769.81\n",
      "54769.8125\n"
     ]
    },
    {
     "data": {
      "text/html": [
       "\n",
       "    <div>\n",
       "      \n",
       "      <progress value='280' max='280' style='width:300px; height:20px; vertical-align: middle;'></progress>\n",
       "      [280/280 19:49, Epoch 1/2]\n",
       "    </div>\n",
       "    <table border=\"1\" class=\"dataframe\">\n",
       "  <thead>\n",
       " <tr style=\"text-align: left;\">\n",
       "      <th>Step</th>\n",
       "      <th>Training Loss</th>\n",
       "      <th>Validation Loss</th>\n",
       "    </tr>\n",
       "  </thead>\n",
       "  <tbody>\n",
       "    <tr>\n",
       "      <td>30</td>\n",
       "      <td>7.487100</td>\n",
       "      <td>7.468016</td>\n",
       "    </tr>\n",
       "    <tr>\n",
       "      <td>60</td>\n",
       "      <td>7.251500</td>\n",
       "      <td>7.226694</td>\n",
       "    </tr>\n",
       "    <tr>\n",
       "      <td>90</td>\n",
       "      <td>6.902200</td>\n",
       "      <td>6.910994</td>\n",
       "    </tr>\n",
       "    <tr>\n",
       "      <td>120</td>\n",
       "      <td>6.683500</td>\n",
       "      <td>6.660523</td>\n",
       "    </tr>\n",
       "    <tr>\n",
       "      <td>150</td>\n",
       "      <td>6.505300</td>\n",
       "      <td>6.540416</td>\n",
       "    </tr>\n",
       "    <tr>\n",
       "      <td>180</td>\n",
       "      <td>6.421400</td>\n",
       "      <td>6.454809</td>\n",
       "    </tr>\n",
       "    <tr>\n",
       "      <td>210</td>\n",
       "      <td>6.379200</td>\n",
       "      <td>6.393113</td>\n",
       "    </tr>\n",
       "    <tr>\n",
       "      <td>240</td>\n",
       "      <td>6.344400</td>\n",
       "      <td>6.363271</td>\n",
       "    </tr>\n",
       "    <tr>\n",
       "      <td>270</td>\n",
       "      <td>6.326600</td>\n",
       "      <td>6.354678</td>\n",
       "    </tr>\n",
       "  </tbody>\n",
       "</table><p>"
      ],
      "text/plain": [
       "<IPython.core.display.HTML object>"
      ]
     },
     "metadata": {},
     "output_type": "display_data"
    },
    {
     "name": "stderr",
     "output_type": "stream",
     "text": [
      "100%|█████████▉| 280/281 [00:04<00:00, 64.13it/s]"
     ]
    },
    {
     "name": "stdout",
     "output_type": "stream",
     "text": [
      "Perplexity on Wikitext-2: 2586.67\n",
      "2586.666259765625\n"
     ]
    },
    {
     "name": "stderr",
     "output_type": "stream",
     "text": [
      "\n"
     ]
    }
   ],
   "source": [
    "tokenized_dataset = tokenize_dataset(tokenizer, dataset)\n",
    "\n",
    "param_key = \"gpt_2_small_untrained\"\n",
    "# num_heads = 10\n",
    "# mult_hidden = 2.5\n",
    "# embed_size = 640\n",
    "\n",
    "# param_key = f\"num_heads={num_heads}_hidden_size={mult_hidden}_embed_size={embed_size}\"\n",
    "# model = copy.deepcopy(base_model)\n",
    "# prune_model_width(model, int(mult_hidden * embed_size), num_heads, embed_size)\n",
    "# print(sum(t.numel() for t in model.parameters()))\n",
    "# remove_all_forward_hooks(model)\n",
    "# torch.cuda.empty_cache()\n",
    "# gc.collect()\n",
    "\n",
    "\n",
    "print(evaluate_perplexity(model, tokenizer, stride=1024).item())\n",
    "\n",
    "training_metrics = {}\n",
    "eval_metrics = {}\n",
    "    \n",
    "trainer = trainer_gpt2(model, tokenizer, tokenized_dataset, batch_size=4, num_epochs=2, lr=1e-3)\n",
    "trainer.train()\n",
    "training_metrics[param_key] = trainer.state.log_history\n",
    "torch.cuda.empty_cache()\n",
    "gc.collect()\n",
    "    \n",
    "eval_metrics[param_key] = evaluate_perplexity(model, tokenizer, stride=1024).item()\n",
    "print(eval_metrics[param_key])\n",
    "\n",
    "\n",
    "# del model\n",
    "# torch.cuda.empty_cache()\n",
    "# gc.collect()\n",
    "# shutil.rmtree(\"/tmp\", ignore_errors=True)"
   ]
  },
  {
   "cell_type": "code",
   "execution_count": 33,
   "metadata": {},
   "outputs": [],
   "source": [
    "k = training_metrics[param_key]"
   ]
  },
  {
   "cell_type": "code",
   "execution_count": 21,
   "metadata": {},
   "outputs": [
    {
     "data": {
      "text/plain": [
       "'num_heads=10_hidden_size=2.5_embed_size=640'"
      ]
     },
     "execution_count": 21,
     "metadata": {},
     "output_type": "execute_result"
    }
   ],
   "source": [
    "param_key"
   ]
  },
  {
   "cell_type": "code",
   "execution_count": 34,
   "metadata": {},
   "outputs": [],
   "source": [
    "training_metrics_path = \"./saved_metrics/training_metrics_embedding.json\"\n",
    "\n",
    "if os.path.exists(training_metrics_path):\n",
    "    with open(training_metrics_path, \"r\") as f:\n",
    "        training_metrics = json.load(f)\n",
    "else:\n",
    "    training_metrics = {}"
   ]
  },
  {
   "cell_type": "code",
   "execution_count": 35,
   "metadata": {},
   "outputs": [
    {
     "data": {
      "text/plain": [
       "'gpt_2_small_untrained'"
      ]
     },
     "execution_count": 35,
     "metadata": {},
     "output_type": "execute_result"
    }
   ],
   "source": [
    "param_key"
   ]
  },
  {
   "cell_type": "code",
   "execution_count": 36,
   "metadata": {},
   "outputs": [],
   "source": [
    "training_metrics[param_key] = k"
   ]
  },
  {
   "cell_type": "code",
   "execution_count": 37,
   "metadata": {},
   "outputs": [],
   "source": [
    "with open(training_metrics_path, \"w\") as f:\n",
    "    json.dump(training_metrics, f, indent=4)"
   ]
  },
  {
   "cell_type": "code",
   "execution_count": null,
   "metadata": {},
   "outputs": [
    {
     "name": "stdout",
     "output_type": "stream",
     "text": [
      "354476829\n"
     ]
    }
   ],
   "source": [
    "# Debugging embedding pruning\n",
    "\n",
    "import torch\n",
    "\n",
    "def is_A_equal_to_B_except_one(A, B, dim=1):\n",
    "    \"\"\"\n",
    "    Check if A is equal to B except for one row (dim=0) or one column (dim=1).\n",
    "    \n",
    "    Parameters:\n",
    "        A (torch.Tensor): The smaller matrix.\n",
    "        B (torch.Tensor): The original matrix.\n",
    "        dim (int): 0 to check for row removal, 1 to check for column removal.\n",
    "\n",
    "    Returns:\n",
    "        bool: True if A is B with exactly one row/column removed, False otherwise.\n",
    "    \"\"\"\n",
    "    if dim == 0:  # Check for row removal\n",
    "        if A.shape[1] != B.shape[1] or A.shape[0] != B.shape[0] - 1:\n",
    "            return False\n",
    "        for i in range(B.shape[0]):\n",
    "            B_removed = torch.cat((B[:i, :], B[i+1:, :]), dim=0)\n",
    "            if torch.equal(A, B_removed):\n",
    "                return True\n",
    "    \n",
    "    elif dim == 1:  # Check for column removal\n",
    "        if A.shape[0] != B.shape[0] or A.shape[1] != B.shape[1] - 1:\n",
    "            return False\n",
    "        for i in range(B.shape[1]):\n",
    "            B_removed = torch.cat((B[:, :i], B[:, i+1:]), dim=1)\n",
    "            if torch.equal(A, B_removed):\n",
    "                return True\n",
    "    \n",
    "    return False  # No match found\n",
    "\n",
    "def is_a_equal_to_b_except_one(a, b):\n",
    "    \"\"\"\n",
    "    Check if a 1D tensor `a` is equal to `b` except for one removed element.\n",
    "    \n",
    "    Parameters:\n",
    "        a (torch.Tensor): The smaller 1D tensor.\n",
    "        b (torch.Tensor): The original 1D tensor.\n",
    "        \n",
    "    Returns:\n",
    "        bool: True if `a` is `b` with exactly one element removed, False otherwise.\n",
    "    \"\"\"\n",
    "    if a.shape[0] != b.shape[0] - 1:\n",
    "        return False  # a must have one less element than b\n",
    "\n",
    "    for i in range(b.shape[0]):\n",
    "        b_removed = torch.cat((b[:i], b[i+1:]))  # Remove the i-th element\n",
    "        if torch.equal(a, b_removed):\n",
    "            return True\n",
    "    \n",
    "    return False  # No match found\n",
    "\n",
    "\n",
    "\n",
    "import copy\n",
    "from torch.nn.modules.normalization import LayerNorm\n",
    "from transformers.pytorch_utils import Conv1D\n",
    "from torch.nn import Embedding, Linear\n",
    "\n",
    "\n",
    "num_heads = 16\n",
    "mult_hidden = 4096\n",
    "embed_size = base_model.config.hidden_size - 1\n",
    "\n",
    "param_key = f\"num_heads={num_heads}_hidden_size={mult_hidden}_embed_size={embed_size}\"\n",
    "model = copy.deepcopy(base_model)\n",
    "prune_model_width(model, int(mult_hidden * embed_size), num_heads, embed_size)\n",
    "print(sum(t.numel() for t in model.parameters()))\n",
    "remove_all_forward_hooks(model)\n",
    "torch.cuda.empty_cache()\n",
    "gc.collect()\n",
    "\n",
    "def compare_models(model, base_model):\n",
    "    base_modules = dict(base_model.named_modules())  # Store base model modules in a dictionary\n",
    "\n",
    "    for name1, param1 in model.named_modules():\n",
    "        if name1 not in base_modules:  # Ensure matching layers exist in base_model\n",
    "            print(f\"Layer {name1} is new!\")\n",
    "            continue\n",
    "        \n",
    "        param2 = base_modules[name1]\n",
    "\n",
    "        # Check for weight attribute\n",
    "        if hasattr(param1, \"weight\") and hasattr(param2, \"weight\"):\n",
    "            if isinstance(param1, (Conv1D, Embedding, Linear)):\n",
    "                if not is_A_equal_to_B_except_one(param1.weight, param2.weight, dim=1) and \\\n",
    "                   not is_a_equal_to_b_except_one(param1.weight, param2.weight):\n",
    "                    print(f\"Layer {name1} weight has changed!\")\n",
    "\n",
    "        # Check for bias attribute\n",
    "        if hasattr(param1, \"bias\") and hasattr(param2, \"bias\") and param1.bias is not None and param2.bias is not None:\n",
    "            if not is_a_equal_to_b_except_one(param1.bias, param2.bias) and not torch.equal(param1.bias, param2.bias):\n",
    "                print(f\"Layer {name1} bias has changed!\")\n",
    "\n",
    "        # Check LayerNorm separately\n",
    "        if isinstance(param1, LayerNorm):\n",
    "            if not is_a_equal_to_b_except_one(param1.weight, param2.weight) or \\\n",
    "               not is_a_equal_to_b_except_one(param1.bias, param2.bias):\n",
    "                print(f\"Layer {name1} (LayerNorm) has changed!\")\n"
   ]
  },
  {
   "cell_type": "code",
   "execution_count": 48,
   "metadata": {},
   "outputs": [],
   "source": [
    "compare_models(model, base_model)"
   ]
  },
  {
   "cell_type": "code",
   "execution_count": null,
   "metadata": {},
   "outputs": [],
   "source": []
  }
 ],
 "metadata": {
  "kernelspec": {
   "display_name": "colab",
   "language": "python",
   "name": "python3"
  },
  "language_info": {
   "codemirror_mode": {
    "name": "ipython",
    "version": 3
   },
   "file_extension": ".py",
   "mimetype": "text/x-python",
   "name": "python",
   "nbconvert_exporter": "python",
   "pygments_lexer": "ipython3",
   "version": "3.10.16"
  }
 },
 "nbformat": 4,
 "nbformat_minor": 2
}
