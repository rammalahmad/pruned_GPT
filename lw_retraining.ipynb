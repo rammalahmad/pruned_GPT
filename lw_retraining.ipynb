{
 "cells": [
  {
   "cell_type": "code",
   "execution_count": 1,
   "metadata": {},
   "outputs": [
    {
     "name": "stderr",
     "output_type": "stream",
     "text": [
      "/users/eleves-a/2021/ahmad.rammal/miniconda3/envs/colab/lib/python3.10/site-packages/tqdm/auto.py:21: TqdmWarning: IProgress not found. Please update jupyter and ipywidgets. See https://ipywidgets.readthedocs.io/en/stable/user_install.html\n",
      "  from .autonotebook import tqdm as notebook_tqdm\n"
     ]
    }
   ],
   "source": [
    "from lw_retrain_utils import *\n",
    "import json\n",
    "import copy \n",
    "from datasets import load_dataset\n",
    "import os\n",
    "from pruning import *\n",
    "import gc\n",
    "import shutil"
   ]
  },
  {
   "cell_type": "code",
   "execution_count": 2,
   "metadata": {},
   "outputs": [],
   "source": [
    "# Generate all the acceptable model sizes for the GPT-2\n",
    "\n",
    "# num_heads_options = [6, 8, 10, 12]\n",
    "# hidden_size_options = [2.5, 3, 3.5, 4]\n",
    "# embed_size_options = [1024]\n",
    "\n",
    "# param_range = (240_000_000, 270_000_000)\n",
    "\n",
    "# model_name = \"openai-community/gpt2-medium\"\n",
    "# base_model, tokenizer = load_model(model_name)\n",
    "\n",
    "# acceptable_params = find_acceptable_model_sizes(base_model, tokenizer, num_heads_options, hidden_size_options, embed_size_options, param_range)\n",
    "\n",
    "# Load params directly from file\n",
    "with open(\"pruning_params.json\", \"r\") as f:\n",
    "    acceptable_params = json.load(f)\n"
   ]
  },
  {
   "cell_type": "code",
   "execution_count": 3,
   "metadata": {},
   "outputs": [
    {
     "data": {
      "text/plain": [
       "[{'num_heads': 6,\n",
       "  'hidden_size': 3.5,\n",
       "  'embed_size': 1024,\n",
       "  'model_size': 266684416},\n",
       " {'num_heads': 10,\n",
       "  'hidden_size': 3,\n",
       "  'embed_size': 1024,\n",
       "  'model_size': 266690560},\n",
       " {'num_heads': 12,\n",
       "  'hidden_size': 2.5,\n",
       "  'embed_size': 1024,\n",
       "  'model_size': 254104576}]"
      ]
     },
     "execution_count": 3,
     "metadata": {},
     "output_type": "execute_result"
    }
   ],
   "source": [
    "acceptable_params"
   ]
  },
  {
   "cell_type": "code",
   "execution_count": 4,
   "metadata": {},
   "outputs": [
    {
     "name": "stderr",
     "output_type": "stream",
     "text": [
      "100%|██████████| 32/32 [00:13<00:00,  2.30it/s]\n"
     ]
    }
   ],
   "source": [
    "# Do forward pass \n",
    "dataset = load_dataset(\"stas/openwebtext-10k\", trust_remote_code=True)\n",
    "model_name = \"openai-community/gpt2-medium\"\n",
    "base_model, tokenizer = load_model(model_name)\n",
    "calibration_pass(model=base_model,\n",
    "                 tokenizer=tokenizer,\n",
    "                 dataset=dataset,\n",
    "                 sample_size=128,\n",
    "                 batch_size=4,)\n"
   ]
  },
  {
   "cell_type": "code",
   "execution_count": null,
   "metadata": {},
   "outputs": [
    {
     "name": "stderr",
     "output_type": "stream",
     "text": [
      "Map:   0%|          | 0/9000 [00:00<?, ? examples/s]"
     ]
    },
    {
     "name": "stderr",
     "output_type": "stream",
     "text": [
      "Map: 100%|██████████| 9000/9000 [00:04<00:00, 2032.18 examples/s]\n",
      "Map: 100%|██████████| 1000/1000 [00:00<00:00, 1850.40 examples/s]\n"
     ]
    },
    {
     "name": "stdout",
     "output_type": "stream",
     "text": [
      "266684416\n",
      "Evaluating perplexity for num_heads=6_hidden_size=3.5_embed_size=1024 before training...\n"
     ]
    },
    {
     "name": "stderr",
     "output_type": "stream",
     "text": [
      "100%|█████████▉| 280/281 [00:12<00:00, 23.22it/s]\n"
     ]
    },
    {
     "name": "stdout",
     "output_type": "stream",
     "text": [
      "Perplexity on Wikitext-2: 947.50\n",
      "Skipping training for num_heads=6_hidden_size=3.5_embed_size=1024, already exists.\n",
      "Skipping evaluation for num_heads=6_hidden_size=3.5_embed_size=1024, already exists.\n",
      "266690560\n",
      "Evaluating perplexity for num_heads=10_hidden_size=3_embed_size=1024 before training...\n"
     ]
    },
    {
     "name": "stderr",
     "output_type": "stream",
     "text": [
      "100%|█████████▉| 280/281 [00:05<00:00, 51.65it/s]\n"
     ]
    },
    {
     "name": "stdout",
     "output_type": "stream",
     "text": [
      "Perplexity on Wikitext-2: 2694.69\n",
      "Skipping training for num_heads=10_hidden_size=3_embed_size=1024, already exists.\n",
      "Skipping evaluation for num_heads=10_hidden_size=3_embed_size=1024, already exists.\n",
      "254104576\n",
      "Evaluating perplexity for num_heads=12_hidden_size=2.5_embed_size=1024 before training...\n"
     ]
    },
    {
     "name": "stderr",
     "output_type": "stream",
     "text": [
      "100%|█████████▉| 280/281 [00:07<00:00, 36.87it/s]\n"
     ]
    },
    {
     "name": "stdout",
     "output_type": "stream",
     "text": [
      "Perplexity on Wikitext-2: 4573.84\n",
      "Skipping training for num_heads=12_hidden_size=2.5_embed_size=1024, already exists.\n",
      "Skipping evaluation for num_heads=12_hidden_size=2.5_embed_size=1024, already exists.\n"
     ]
    }
   ],
   "source": [
    "tokenized_dataset = tokenize_dataset(tokenizer, dataset)\n",
    "\n",
    "os.makedirs(\"./saved_metrics\", exist_ok=True)\n",
    "\n",
    "training_metrics_path = \"./saved_metrics/training_metrics.json\"\n",
    "eval_metrics_path = \"./saved_metrics/eval_metrics.json\"\n",
    "\n",
    "if os.path.exists(training_metrics_path):\n",
    "    with open(training_metrics_path, \"r\") as f:\n",
    "        training_metrics = json.load(f)\n",
    "else:\n",
    "    training_metrics = {}\n",
    "\n",
    "if os.path.exists(eval_metrics_path):\n",
    "    with open(eval_metrics_path, \"r\") as f:\n",
    "        eval_metrics = json.load(f)\n",
    "else:\n",
    "    eval_metrics = {}\n",
    "\n",
    "for param in acceptable_params:\n",
    "    num_heads = param[\"num_heads\"]\n",
    "    mult_hidden = param[\"hidden_size\"]\n",
    "    embed_size = param[\"embed_size\"]\n",
    "\n",
    "    param_key = f\"num_heads={num_heads}_hidden_size={mult_hidden}_embed_size={embed_size}\"\n",
    "    model = copy.deepcopy(base_model)\n",
    "    prune_model(model, int(mult_hidden * embed_size), num_heads, embed_size)\n",
    "    print(sum(t.numel() for t in model.parameters()))\n",
    "    remove_all_forward_hooks(model)\n",
    "    torch.cuda.empty_cache()\n",
    "    gc.collect()\n",
    "    \n",
    "    if param_key+\"_before_training\" in eval_metrics:\n",
    "        print(f\"Skipping evaluation for {param_key}, already exists.\")\n",
    "    else:\n",
    "        print(f\"Evaluating perplexity for {param_key} before training...\")\n",
    "        eval_metrics[param_key+\"_before_training\"] = evaluate_perplexity(model, tokenizer, stride=1024).item()\n",
    "\n",
    "        with open(eval_metrics_path, \"w\") as f:\n",
    "            json.dump(eval_metrics, f, indent=4)\n",
    "    if param_key in training_metrics:\n",
    "        print(f\"Skipping training for {param_key}, already exists.\")\n",
    "    else:\n",
    "        print(f\"Training model for {param_key}...\")\n",
    "\n",
    "        \n",
    "        trainer = trainer_gpt2(model, tokenizer, tokenized_dataset, batch_size=4, num_epochs=2, lr=5e-4)\n",
    "        trainer.train()\n",
    "        training_metrics[param_key] = trainer.state.log_history\n",
    "\n",
    "        with open(training_metrics_path, \"w\") as f:\n",
    "            json.dump(training_metrics, f, indent=4)\n",
    "        torch.cuda.empty_cache()\n",
    "        gc.collect()\n",
    "        \n",
    "    if param_key in eval_metrics:\n",
    "        print(f\"Skipping evaluation for {param_key}, already exists.\")\n",
    "    else:\n",
    "        print(f\"Evaluating perplexity for {param_key}...\")\n",
    "        eval_metrics[param_key] = evaluate_perplexity(model, tokenizer, stride=1024).item()\n",
    "\n",
    "        with open(eval_metrics_path, \"w\") as f:\n",
    "            json.dump(eval_metrics, f, indent=4)\n",
    "\n",
    "    del model\n",
    "    torch.cuda.empty_cache()\n",
    "    gc.collect()\n",
    "    shutil.rmtree(\"/tmp\", ignore_errors=True)"
   ]
  },
  {
   "cell_type": "code",
   "execution_count": null,
   "metadata": {},
   "outputs": [
    {
     "name": "stdout",
     "output_type": "stream",
     "text": [
      "254104576\n",
      "Evaluating perplexity for untrained_num_heads=12_hidden_size=2.5_embed_size=1024 before training...\n"
     ]
    },
    {
     "name": "stderr",
     "output_type": "stream",
     "text": [
      "100%|█████████▉| 280/281 [00:05<00:00, 54.89it/s]\n"
     ]
    },
    {
     "name": "stdout",
     "output_type": "stream",
     "text": [
      "Perplexity on Wikitext-2: 58997.23\n",
      "Training model for untrained_num_heads=12_hidden_size=2.5_embed_size=1024...\n"
     ]
    },
    {
     "data": {
      "text/html": [
       "\n",
       "    <div>\n",
       "      \n",
       "      <progress value='10' max='280' style='width:300px; height:20px; vertical-align: middle;'></progress>\n",
       "      [ 10/280 00:35 < 20:00, 0.22 it/s, Epoch 0.06/2]\n",
       "    </div>\n",
       "    <table border=\"1\" class=\"dataframe\">\n",
       "  <thead>\n",
       " <tr style=\"text-align: left;\">\n",
       "      <th>Step</th>\n",
       "      <th>Training Loss</th>\n",
       "      <th>Validation Loss</th>\n",
       "    </tr>\n",
       "  </thead>\n",
       "  <tbody>\n",
       "  </tbody>\n",
       "</table><p>"
      ],
      "text/plain": [
       "<IPython.core.display.HTML object>"
      ]
     },
     "metadata": {},
     "output_type": "display_data"
    }
   ],
   "source": [
    "## Training an untrained pruned model from scratch for comparison sake\n",
    "def reset_model_weights(model):\n",
    "    def init_weights(module):\n",
    "        if hasattr(module, \"reset_parameters\"):\n",
    "            module.reset_parameters()\n",
    "\n",
    "    model.apply(init_weights)\n",
    "\n",
    "param = acceptable_params[-1]\n",
    "num_heads = param[\"num_heads\"]\n",
    "mult_hidden = param[\"hidden_size\"]\n",
    "embed_size = param[\"embed_size\"]\n",
    "\n",
    "param_key = f\"untrained_num_heads={num_heads}_hidden_size={mult_hidden}_embed_size={embed_size}\"\n",
    "model = copy.deepcopy(base_model)\n",
    "prune_model(model, int(mult_hidden * embed_size), num_heads, embed_size)\n",
    "print(sum(t.numel() for t in model.parameters()))\n",
    "remove_all_forward_hooks(model)\n",
    "reset_model_weights(model)\n",
    "torch.cuda.empty_cache()\n",
    "gc.collect()\n",
    "\n",
    "if param_key+\"_before_training\" in eval_metrics:\n",
    "    print(f\"Skipping evaluation for {param_key}, already exists.\")\n",
    "else:\n",
    "    print(f\"Evaluating perplexity for {param_key} before training...\")\n",
    "    eval_metrics[param_key+\"_before_training\"] = evaluate_perplexity(model, tokenizer, stride=1024).item()\n",
    "\n",
    "    with open(eval_metrics_path, \"w\") as f:\n",
    "        json.dump(eval_metrics, f, indent=4)\n",
    "if param_key in training_metrics:\n",
    "    print(f\"Skipping training for {param_key}, already exists.\")\n",
    "else:\n",
    "    print(f\"Training model for {param_key}...\")\n",
    "\n",
    "    \n",
    "    trainer = trainer_gpt2(model, tokenizer, tokenized_dataset, batch_size=4, num_epochs=2, lr=5e-4)\n",
    "    trainer.train()\n",
    "    training_metrics[param_key] = trainer.state.log_history\n",
    "\n",
    "    with open(training_metrics_path, \"w\") as f:\n",
    "        json.dump(training_metrics, f, indent=4)\n",
    "    torch.cuda.empty_cache()\n",
    "    gc.collect()\n",
    "    \n",
    "if param_key in eval_metrics:\n",
    "    print(f\"Skipping evaluation for {param_key}, already exists.\")\n",
    "else:\n",
    "    print(f\"Evaluating perplexity for {param_key}...\")\n",
    "    eval_metrics[param_key] = evaluate_perplexity(model, tokenizer, stride=1024).item()\n",
    "\n",
    "    with open(eval_metrics_path, \"w\") as f:\n",
    "        json.dump(eval_metrics, f, indent=4)\n",
    "\n",
    "del model\n",
    "torch.cuda.empty_cache()\n",
    "gc.collect()\n",
    "shutil.rmtree(\"/tmp\", ignore_errors=True)"
   ]
  },
  {
   "cell_type": "code",
   "execution_count": null,
   "metadata": {},
   "outputs": [],
   "source": []
  }
 ],
 "metadata": {
  "kernelspec": {
   "display_name": "colab",
   "language": "python",
   "name": "python3"
  },
  "language_info": {
   "codemirror_mode": {
    "name": "ipython",
    "version": 3
   },
   "file_extension": ".py",
   "mimetype": "text/x-python",
   "name": "python",
   "nbconvert_exporter": "python",
   "pygments_lexer": "ipython3",
   "version": "3.10.16"
  }
 },
 "nbformat": 4,
 "nbformat_minor": 2
}
