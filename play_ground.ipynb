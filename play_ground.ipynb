{
 "cells": [
  {
   "cell_type": "code",
   "execution_count": 1,
   "metadata": {},
   "outputs": [
    {
     "name": "stderr",
     "output_type": "stream",
     "text": [
      "/users/eleves-a/2021/ahmad.rammal/miniconda3/envs/colab/lib/python3.10/site-packages/tqdm/auto.py:21: TqdmWarning: IProgress not found. Please update jupyter and ipywidgets. See https://ipywidgets.readthedocs.io/en/stable/user_install.html\n",
      "  from .autonotebook import tqdm as notebook_tqdm\n"
     ]
    }
   ],
   "source": [
    "from transformers import AutoModelForCausalLM, AutoTokenizer\n",
    "import torch\n",
    "device = 'cuda'"
   ]
  },
  {
   "cell_type": "code",
   "execution_count": 2,
   "metadata": {},
   "outputs": [],
   "source": [
    "model_name = \"openai-community/gpt2-medium\"\n",
    "\n",
    "tokenizer = AutoTokenizer.from_pretrained(model_name)\n",
    "model = AutoModelForCausalLM.from_pretrained(\n",
    "    model_name,\n",
    "    torch_dtype=torch.float16,  # Force float16 instead of BF16\n",
    "    device_map=\"auto\"           # Auto-detect the best device\n",
    ")"
   ]
  },
  {
   "cell_type": "code",
   "execution_count": 3,
   "metadata": {},
   "outputs": [
    {
     "data": {
      "text/plain": [
       "GPT2LMHeadModel(\n",
       "  (transformer): GPT2Model(\n",
       "    (wte): Embedding(50257, 1024)\n",
       "    (wpe): Embedding(1024, 1024)\n",
       "    (drop): Dropout(p=0.1, inplace=False)\n",
       "    (h): ModuleList(\n",
       "      (0-23): 24 x GPT2Block(\n",
       "        (ln_1): LayerNorm((1024,), eps=1e-05, elementwise_affine=True)\n",
       "        (attn): GPT2Attention(\n",
       "          (c_attn): Conv1D(nf=3072, nx=1024)\n",
       "          (c_proj): Conv1D(nf=1024, nx=1024)\n",
       "          (attn_dropout): Dropout(p=0.1, inplace=False)\n",
       "          (resid_dropout): Dropout(p=0.1, inplace=False)\n",
       "        )\n",
       "        (ln_2): LayerNorm((1024,), eps=1e-05, elementwise_affine=True)\n",
       "        (mlp): GPT2MLP(\n",
       "          (c_fc): Conv1D(nf=4096, nx=1024)\n",
       "          (c_proj): Conv1D(nf=1024, nx=4096)\n",
       "          (act): NewGELUActivation()\n",
       "          (dropout): Dropout(p=0.1, inplace=False)\n",
       "        )\n",
       "      )\n",
       "    )\n",
       "    (ln_f): LayerNorm((1024,), eps=1e-05, elementwise_affine=True)\n",
       "  )\n",
       "  (lm_head): Linear(in_features=1024, out_features=50257, bias=False)\n",
       ")"
      ]
     },
     "execution_count": 3,
     "metadata": {},
     "output_type": "execute_result"
    }
   ],
   "source": [
    "model"
   ]
  },
  {
   "cell_type": "code",
   "execution_count": 4,
   "metadata": {},
   "outputs": [
    {
     "name": "stdout",
     "output_type": "stream",
     "text": [
      "transformer.wte.weight torch.Size([50257, 1024])\n",
      "transformer.wpe.weight torch.Size([1024, 1024])\n",
      "transformer.h.0.ln_1.weight torch.Size([1024])\n",
      "transformer.h.0.ln_1.bias torch.Size([1024])\n",
      "transformer.h.0.attn.c_attn.weight torch.Size([1024, 3072])\n",
      "transformer.h.0.attn.c_attn.bias torch.Size([3072])\n",
      "transformer.h.0.attn.c_proj.weight torch.Size([1024, 1024])\n",
      "transformer.h.0.attn.c_proj.bias torch.Size([1024])\n",
      "transformer.h.0.ln_2.weight torch.Size([1024])\n",
      "transformer.h.0.ln_2.bias torch.Size([1024])\n",
      "transformer.h.0.mlp.c_fc.weight torch.Size([1024, 4096])\n",
      "transformer.h.0.mlp.c_fc.bias torch.Size([4096])\n",
      "transformer.h.0.mlp.c_proj.weight torch.Size([4096, 1024])\n",
      "transformer.h.0.mlp.c_proj.bias torch.Size([1024])\n",
      "transformer.h.1.ln_1.weight torch.Size([1024])\n",
      "transformer.h.1.ln_1.bias torch.Size([1024])\n",
      "transformer.h.1.attn.c_attn.weight torch.Size([1024, 3072])\n",
      "transformer.h.1.attn.c_attn.bias torch.Size([3072])\n",
      "transformer.h.1.attn.c_proj.weight torch.Size([1024, 1024])\n",
      "transformer.h.1.attn.c_proj.bias torch.Size([1024])\n",
      "transformer.h.1.ln_2.weight torch.Size([1024])\n",
      "transformer.h.1.ln_2.bias torch.Size([1024])\n",
      "transformer.h.1.mlp.c_fc.weight torch.Size([1024, 4096])\n",
      "transformer.h.1.mlp.c_fc.bias torch.Size([4096])\n",
      "transformer.h.1.mlp.c_proj.weight torch.Size([4096, 1024])\n",
      "transformer.h.1.mlp.c_proj.bias torch.Size([1024])\n",
      "transformer.h.2.ln_1.weight torch.Size([1024])\n",
      "transformer.h.2.ln_1.bias torch.Size([1024])\n",
      "transformer.h.2.attn.c_attn.weight torch.Size([1024, 3072])\n",
      "transformer.h.2.attn.c_attn.bias torch.Size([3072])\n",
      "transformer.h.2.attn.c_proj.weight torch.Size([1024, 1024])\n",
      "transformer.h.2.attn.c_proj.bias torch.Size([1024])\n",
      "transformer.h.2.ln_2.weight torch.Size([1024])\n",
      "transformer.h.2.ln_2.bias torch.Size([1024])\n",
      "transformer.h.2.mlp.c_fc.weight torch.Size([1024, 4096])\n",
      "transformer.h.2.mlp.c_fc.bias torch.Size([4096])\n",
      "transformer.h.2.mlp.c_proj.weight torch.Size([4096, 1024])\n",
      "transformer.h.2.mlp.c_proj.bias torch.Size([1024])\n",
      "transformer.h.3.ln_1.weight torch.Size([1024])\n",
      "transformer.h.3.ln_1.bias torch.Size([1024])\n",
      "transformer.h.3.attn.c_attn.weight torch.Size([1024, 3072])\n",
      "transformer.h.3.attn.c_attn.bias torch.Size([3072])\n",
      "transformer.h.3.attn.c_proj.weight torch.Size([1024, 1024])\n",
      "transformer.h.3.attn.c_proj.bias torch.Size([1024])\n",
      "transformer.h.3.ln_2.weight torch.Size([1024])\n",
      "transformer.h.3.ln_2.bias torch.Size([1024])\n",
      "transformer.h.3.mlp.c_fc.weight torch.Size([1024, 4096])\n",
      "transformer.h.3.mlp.c_fc.bias torch.Size([4096])\n",
      "transformer.h.3.mlp.c_proj.weight torch.Size([4096, 1024])\n",
      "transformer.h.3.mlp.c_proj.bias torch.Size([1024])\n",
      "transformer.h.4.ln_1.weight torch.Size([1024])\n",
      "transformer.h.4.ln_1.bias torch.Size([1024])\n",
      "transformer.h.4.attn.c_attn.weight torch.Size([1024, 3072])\n",
      "transformer.h.4.attn.c_attn.bias torch.Size([3072])\n",
      "transformer.h.4.attn.c_proj.weight torch.Size([1024, 1024])\n",
      "transformer.h.4.attn.c_proj.bias torch.Size([1024])\n",
      "transformer.h.4.ln_2.weight torch.Size([1024])\n",
      "transformer.h.4.ln_2.bias torch.Size([1024])\n",
      "transformer.h.4.mlp.c_fc.weight torch.Size([1024, 4096])\n",
      "transformer.h.4.mlp.c_fc.bias torch.Size([4096])\n",
      "transformer.h.4.mlp.c_proj.weight torch.Size([4096, 1024])\n",
      "transformer.h.4.mlp.c_proj.bias torch.Size([1024])\n",
      "transformer.h.5.ln_1.weight torch.Size([1024])\n",
      "transformer.h.5.ln_1.bias torch.Size([1024])\n",
      "transformer.h.5.attn.c_attn.weight torch.Size([1024, 3072])\n",
      "transformer.h.5.attn.c_attn.bias torch.Size([3072])\n",
      "transformer.h.5.attn.c_proj.weight torch.Size([1024, 1024])\n",
      "transformer.h.5.attn.c_proj.bias torch.Size([1024])\n",
      "transformer.h.5.ln_2.weight torch.Size([1024])\n",
      "transformer.h.5.ln_2.bias torch.Size([1024])\n",
      "transformer.h.5.mlp.c_fc.weight torch.Size([1024, 4096])\n",
      "transformer.h.5.mlp.c_fc.bias torch.Size([4096])\n",
      "transformer.h.5.mlp.c_proj.weight torch.Size([4096, 1024])\n",
      "transformer.h.5.mlp.c_proj.bias torch.Size([1024])\n",
      "transformer.h.6.ln_1.weight torch.Size([1024])\n",
      "transformer.h.6.ln_1.bias torch.Size([1024])\n",
      "transformer.h.6.attn.c_attn.weight torch.Size([1024, 3072])\n",
      "transformer.h.6.attn.c_attn.bias torch.Size([3072])\n",
      "transformer.h.6.attn.c_proj.weight torch.Size([1024, 1024])\n",
      "transformer.h.6.attn.c_proj.bias torch.Size([1024])\n",
      "transformer.h.6.ln_2.weight torch.Size([1024])\n",
      "transformer.h.6.ln_2.bias torch.Size([1024])\n",
      "transformer.h.6.mlp.c_fc.weight torch.Size([1024, 4096])\n",
      "transformer.h.6.mlp.c_fc.bias torch.Size([4096])\n",
      "transformer.h.6.mlp.c_proj.weight torch.Size([4096, 1024])\n",
      "transformer.h.6.mlp.c_proj.bias torch.Size([1024])\n",
      "transformer.h.7.ln_1.weight torch.Size([1024])\n",
      "transformer.h.7.ln_1.bias torch.Size([1024])\n",
      "transformer.h.7.attn.c_attn.weight torch.Size([1024, 3072])\n",
      "transformer.h.7.attn.c_attn.bias torch.Size([3072])\n",
      "transformer.h.7.attn.c_proj.weight torch.Size([1024, 1024])\n",
      "transformer.h.7.attn.c_proj.bias torch.Size([1024])\n",
      "transformer.h.7.ln_2.weight torch.Size([1024])\n",
      "transformer.h.7.ln_2.bias torch.Size([1024])\n",
      "transformer.h.7.mlp.c_fc.weight torch.Size([1024, 4096])\n",
      "transformer.h.7.mlp.c_fc.bias torch.Size([4096])\n",
      "transformer.h.7.mlp.c_proj.weight torch.Size([4096, 1024])\n",
      "transformer.h.7.mlp.c_proj.bias torch.Size([1024])\n",
      "transformer.h.8.ln_1.weight torch.Size([1024])\n",
      "transformer.h.8.ln_1.bias torch.Size([1024])\n",
      "transformer.h.8.attn.c_attn.weight torch.Size([1024, 3072])\n",
      "transformer.h.8.attn.c_attn.bias torch.Size([3072])\n",
      "transformer.h.8.attn.c_proj.weight torch.Size([1024, 1024])\n",
      "transformer.h.8.attn.c_proj.bias torch.Size([1024])\n",
      "transformer.h.8.ln_2.weight torch.Size([1024])\n",
      "transformer.h.8.ln_2.bias torch.Size([1024])\n",
      "transformer.h.8.mlp.c_fc.weight torch.Size([1024, 4096])\n",
      "transformer.h.8.mlp.c_fc.bias torch.Size([4096])\n",
      "transformer.h.8.mlp.c_proj.weight torch.Size([4096, 1024])\n",
      "transformer.h.8.mlp.c_proj.bias torch.Size([1024])\n",
      "transformer.h.9.ln_1.weight torch.Size([1024])\n",
      "transformer.h.9.ln_1.bias torch.Size([1024])\n",
      "transformer.h.9.attn.c_attn.weight torch.Size([1024, 3072])\n",
      "transformer.h.9.attn.c_attn.bias torch.Size([3072])\n",
      "transformer.h.9.attn.c_proj.weight torch.Size([1024, 1024])\n",
      "transformer.h.9.attn.c_proj.bias torch.Size([1024])\n",
      "transformer.h.9.ln_2.weight torch.Size([1024])\n",
      "transformer.h.9.ln_2.bias torch.Size([1024])\n",
      "transformer.h.9.mlp.c_fc.weight torch.Size([1024, 4096])\n",
      "transformer.h.9.mlp.c_fc.bias torch.Size([4096])\n",
      "transformer.h.9.mlp.c_proj.weight torch.Size([4096, 1024])\n",
      "transformer.h.9.mlp.c_proj.bias torch.Size([1024])\n",
      "transformer.h.10.ln_1.weight torch.Size([1024])\n",
      "transformer.h.10.ln_1.bias torch.Size([1024])\n",
      "transformer.h.10.attn.c_attn.weight torch.Size([1024, 3072])\n",
      "transformer.h.10.attn.c_attn.bias torch.Size([3072])\n",
      "transformer.h.10.attn.c_proj.weight torch.Size([1024, 1024])\n",
      "transformer.h.10.attn.c_proj.bias torch.Size([1024])\n",
      "transformer.h.10.ln_2.weight torch.Size([1024])\n",
      "transformer.h.10.ln_2.bias torch.Size([1024])\n",
      "transformer.h.10.mlp.c_fc.weight torch.Size([1024, 4096])\n",
      "transformer.h.10.mlp.c_fc.bias torch.Size([4096])\n",
      "transformer.h.10.mlp.c_proj.weight torch.Size([4096, 1024])\n",
      "transformer.h.10.mlp.c_proj.bias torch.Size([1024])\n",
      "transformer.h.11.ln_1.weight torch.Size([1024])\n",
      "transformer.h.11.ln_1.bias torch.Size([1024])\n",
      "transformer.h.11.attn.c_attn.weight torch.Size([1024, 3072])\n",
      "transformer.h.11.attn.c_attn.bias torch.Size([3072])\n",
      "transformer.h.11.attn.c_proj.weight torch.Size([1024, 1024])\n",
      "transformer.h.11.attn.c_proj.bias torch.Size([1024])\n",
      "transformer.h.11.ln_2.weight torch.Size([1024])\n",
      "transformer.h.11.ln_2.bias torch.Size([1024])\n",
      "transformer.h.11.mlp.c_fc.weight torch.Size([1024, 4096])\n",
      "transformer.h.11.mlp.c_fc.bias torch.Size([4096])\n",
      "transformer.h.11.mlp.c_proj.weight torch.Size([4096, 1024])\n",
      "transformer.h.11.mlp.c_proj.bias torch.Size([1024])\n",
      "transformer.h.12.ln_1.weight torch.Size([1024])\n",
      "transformer.h.12.ln_1.bias torch.Size([1024])\n",
      "transformer.h.12.attn.c_attn.weight torch.Size([1024, 3072])\n",
      "transformer.h.12.attn.c_attn.bias torch.Size([3072])\n",
      "transformer.h.12.attn.c_proj.weight torch.Size([1024, 1024])\n",
      "transformer.h.12.attn.c_proj.bias torch.Size([1024])\n",
      "transformer.h.12.ln_2.weight torch.Size([1024])\n",
      "transformer.h.12.ln_2.bias torch.Size([1024])\n",
      "transformer.h.12.mlp.c_fc.weight torch.Size([1024, 4096])\n",
      "transformer.h.12.mlp.c_fc.bias torch.Size([4096])\n",
      "transformer.h.12.mlp.c_proj.weight torch.Size([4096, 1024])\n",
      "transformer.h.12.mlp.c_proj.bias torch.Size([1024])\n",
      "transformer.h.13.ln_1.weight torch.Size([1024])\n",
      "transformer.h.13.ln_1.bias torch.Size([1024])\n",
      "transformer.h.13.attn.c_attn.weight torch.Size([1024, 3072])\n",
      "transformer.h.13.attn.c_attn.bias torch.Size([3072])\n",
      "transformer.h.13.attn.c_proj.weight torch.Size([1024, 1024])\n",
      "transformer.h.13.attn.c_proj.bias torch.Size([1024])\n",
      "transformer.h.13.ln_2.weight torch.Size([1024])\n",
      "transformer.h.13.ln_2.bias torch.Size([1024])\n",
      "transformer.h.13.mlp.c_fc.weight torch.Size([1024, 4096])\n",
      "transformer.h.13.mlp.c_fc.bias torch.Size([4096])\n",
      "transformer.h.13.mlp.c_proj.weight torch.Size([4096, 1024])\n",
      "transformer.h.13.mlp.c_proj.bias torch.Size([1024])\n",
      "transformer.h.14.ln_1.weight torch.Size([1024])\n",
      "transformer.h.14.ln_1.bias torch.Size([1024])\n",
      "transformer.h.14.attn.c_attn.weight torch.Size([1024, 3072])\n",
      "transformer.h.14.attn.c_attn.bias torch.Size([3072])\n",
      "transformer.h.14.attn.c_proj.weight torch.Size([1024, 1024])\n",
      "transformer.h.14.attn.c_proj.bias torch.Size([1024])\n",
      "transformer.h.14.ln_2.weight torch.Size([1024])\n",
      "transformer.h.14.ln_2.bias torch.Size([1024])\n",
      "transformer.h.14.mlp.c_fc.weight torch.Size([1024, 4096])\n",
      "transformer.h.14.mlp.c_fc.bias torch.Size([4096])\n",
      "transformer.h.14.mlp.c_proj.weight torch.Size([4096, 1024])\n",
      "transformer.h.14.mlp.c_proj.bias torch.Size([1024])\n",
      "transformer.h.15.ln_1.weight torch.Size([1024])\n",
      "transformer.h.15.ln_1.bias torch.Size([1024])\n",
      "transformer.h.15.attn.c_attn.weight torch.Size([1024, 3072])\n",
      "transformer.h.15.attn.c_attn.bias torch.Size([3072])\n",
      "transformer.h.15.attn.c_proj.weight torch.Size([1024, 1024])\n",
      "transformer.h.15.attn.c_proj.bias torch.Size([1024])\n",
      "transformer.h.15.ln_2.weight torch.Size([1024])\n",
      "transformer.h.15.ln_2.bias torch.Size([1024])\n",
      "transformer.h.15.mlp.c_fc.weight torch.Size([1024, 4096])\n",
      "transformer.h.15.mlp.c_fc.bias torch.Size([4096])\n",
      "transformer.h.15.mlp.c_proj.weight torch.Size([4096, 1024])\n",
      "transformer.h.15.mlp.c_proj.bias torch.Size([1024])\n",
      "transformer.h.16.ln_1.weight torch.Size([1024])\n",
      "transformer.h.16.ln_1.bias torch.Size([1024])\n",
      "transformer.h.16.attn.c_attn.weight torch.Size([1024, 3072])\n",
      "transformer.h.16.attn.c_attn.bias torch.Size([3072])\n",
      "transformer.h.16.attn.c_proj.weight torch.Size([1024, 1024])\n",
      "transformer.h.16.attn.c_proj.bias torch.Size([1024])\n",
      "transformer.h.16.ln_2.weight torch.Size([1024])\n",
      "transformer.h.16.ln_2.bias torch.Size([1024])\n",
      "transformer.h.16.mlp.c_fc.weight torch.Size([1024, 4096])\n",
      "transformer.h.16.mlp.c_fc.bias torch.Size([4096])\n",
      "transformer.h.16.mlp.c_proj.weight torch.Size([4096, 1024])\n",
      "transformer.h.16.mlp.c_proj.bias torch.Size([1024])\n",
      "transformer.h.17.ln_1.weight torch.Size([1024])\n",
      "transformer.h.17.ln_1.bias torch.Size([1024])\n",
      "transformer.h.17.attn.c_attn.weight torch.Size([1024, 3072])\n",
      "transformer.h.17.attn.c_attn.bias torch.Size([3072])\n",
      "transformer.h.17.attn.c_proj.weight torch.Size([1024, 1024])\n",
      "transformer.h.17.attn.c_proj.bias torch.Size([1024])\n",
      "transformer.h.17.ln_2.weight torch.Size([1024])\n",
      "transformer.h.17.ln_2.bias torch.Size([1024])\n",
      "transformer.h.17.mlp.c_fc.weight torch.Size([1024, 4096])\n",
      "transformer.h.17.mlp.c_fc.bias torch.Size([4096])\n",
      "transformer.h.17.mlp.c_proj.weight torch.Size([4096, 1024])\n",
      "transformer.h.17.mlp.c_proj.bias torch.Size([1024])\n",
      "transformer.h.18.ln_1.weight torch.Size([1024])\n",
      "transformer.h.18.ln_1.bias torch.Size([1024])\n",
      "transformer.h.18.attn.c_attn.weight torch.Size([1024, 3072])\n",
      "transformer.h.18.attn.c_attn.bias torch.Size([3072])\n",
      "transformer.h.18.attn.c_proj.weight torch.Size([1024, 1024])\n",
      "transformer.h.18.attn.c_proj.bias torch.Size([1024])\n",
      "transformer.h.18.ln_2.weight torch.Size([1024])\n",
      "transformer.h.18.ln_2.bias torch.Size([1024])\n",
      "transformer.h.18.mlp.c_fc.weight torch.Size([1024, 4096])\n",
      "transformer.h.18.mlp.c_fc.bias torch.Size([4096])\n",
      "transformer.h.18.mlp.c_proj.weight torch.Size([4096, 1024])\n",
      "transformer.h.18.mlp.c_proj.bias torch.Size([1024])\n",
      "transformer.h.19.ln_1.weight torch.Size([1024])\n",
      "transformer.h.19.ln_1.bias torch.Size([1024])\n",
      "transformer.h.19.attn.c_attn.weight torch.Size([1024, 3072])\n",
      "transformer.h.19.attn.c_attn.bias torch.Size([3072])\n",
      "transformer.h.19.attn.c_proj.weight torch.Size([1024, 1024])\n",
      "transformer.h.19.attn.c_proj.bias torch.Size([1024])\n",
      "transformer.h.19.ln_2.weight torch.Size([1024])\n",
      "transformer.h.19.ln_2.bias torch.Size([1024])\n",
      "transformer.h.19.mlp.c_fc.weight torch.Size([1024, 4096])\n",
      "transformer.h.19.mlp.c_fc.bias torch.Size([4096])\n",
      "transformer.h.19.mlp.c_proj.weight torch.Size([4096, 1024])\n",
      "transformer.h.19.mlp.c_proj.bias torch.Size([1024])\n",
      "transformer.h.20.ln_1.weight torch.Size([1024])\n",
      "transformer.h.20.ln_1.bias torch.Size([1024])\n",
      "transformer.h.20.attn.c_attn.weight torch.Size([1024, 3072])\n",
      "transformer.h.20.attn.c_attn.bias torch.Size([3072])\n",
      "transformer.h.20.attn.c_proj.weight torch.Size([1024, 1024])\n",
      "transformer.h.20.attn.c_proj.bias torch.Size([1024])\n",
      "transformer.h.20.ln_2.weight torch.Size([1024])\n",
      "transformer.h.20.ln_2.bias torch.Size([1024])\n",
      "transformer.h.20.mlp.c_fc.weight torch.Size([1024, 4096])\n",
      "transformer.h.20.mlp.c_fc.bias torch.Size([4096])\n",
      "transformer.h.20.mlp.c_proj.weight torch.Size([4096, 1024])\n",
      "transformer.h.20.mlp.c_proj.bias torch.Size([1024])\n",
      "transformer.h.21.ln_1.weight torch.Size([1024])\n",
      "transformer.h.21.ln_1.bias torch.Size([1024])\n",
      "transformer.h.21.attn.c_attn.weight torch.Size([1024, 3072])\n",
      "transformer.h.21.attn.c_attn.bias torch.Size([3072])\n",
      "transformer.h.21.attn.c_proj.weight torch.Size([1024, 1024])\n",
      "transformer.h.21.attn.c_proj.bias torch.Size([1024])\n",
      "transformer.h.21.ln_2.weight torch.Size([1024])\n",
      "transformer.h.21.ln_2.bias torch.Size([1024])\n",
      "transformer.h.21.mlp.c_fc.weight torch.Size([1024, 4096])\n",
      "transformer.h.21.mlp.c_fc.bias torch.Size([4096])\n",
      "transformer.h.21.mlp.c_proj.weight torch.Size([4096, 1024])\n",
      "transformer.h.21.mlp.c_proj.bias torch.Size([1024])\n",
      "transformer.h.22.ln_1.weight torch.Size([1024])\n",
      "transformer.h.22.ln_1.bias torch.Size([1024])\n",
      "transformer.h.22.attn.c_attn.weight torch.Size([1024, 3072])\n",
      "transformer.h.22.attn.c_attn.bias torch.Size([3072])\n",
      "transformer.h.22.attn.c_proj.weight torch.Size([1024, 1024])\n",
      "transformer.h.22.attn.c_proj.bias torch.Size([1024])\n",
      "transformer.h.22.ln_2.weight torch.Size([1024])\n",
      "transformer.h.22.ln_2.bias torch.Size([1024])\n",
      "transformer.h.22.mlp.c_fc.weight torch.Size([1024, 4096])\n",
      "transformer.h.22.mlp.c_fc.bias torch.Size([4096])\n",
      "transformer.h.22.mlp.c_proj.weight torch.Size([4096, 1024])\n",
      "transformer.h.22.mlp.c_proj.bias torch.Size([1024])\n",
      "transformer.h.23.ln_1.weight torch.Size([1024])\n",
      "transformer.h.23.ln_1.bias torch.Size([1024])\n",
      "transformer.h.23.attn.c_attn.weight torch.Size([1024, 3072])\n",
      "transformer.h.23.attn.c_attn.bias torch.Size([3072])\n",
      "transformer.h.23.attn.c_proj.weight torch.Size([1024, 1024])\n",
      "transformer.h.23.attn.c_proj.bias torch.Size([1024])\n",
      "transformer.h.23.ln_2.weight torch.Size([1024])\n",
      "transformer.h.23.ln_2.bias torch.Size([1024])\n",
      "transformer.h.23.mlp.c_fc.weight torch.Size([1024, 4096])\n",
      "transformer.h.23.mlp.c_fc.bias torch.Size([4096])\n",
      "transformer.h.23.mlp.c_proj.weight torch.Size([4096, 1024])\n",
      "transformer.h.23.mlp.c_proj.bias torch.Size([1024])\n",
      "transformer.ln_f.weight torch.Size([1024])\n",
      "transformer.ln_f.bias torch.Size([1024])\n",
      "lm_head.weight torch.Size([50257, 1024])\n"
     ]
    }
   ],
   "source": [
    "sd_hf = model.state_dict()\n",
    "for k, v in sd_hf.items():\n",
    "  print(k, v.shape)"
   ]
  },
  {
   "cell_type": "code",
   "execution_count": 5,
   "metadata": {},
   "outputs": [],
   "source": [
    "# # Sample prompt\n",
    "# prompt = \"The \"\n",
    "# inputs = tokenizer(prompt, return_tensors=\"pt\").to(device)\n",
    "\n",
    "# # Generate output text\n",
    "# with torch.no_grad():\n",
    "#     generated_ids = model.generate(\n",
    "#         inputs.input_ids,\n",
    "#         max_length=10,  # Adjust length as needed\n",
    "#         temperature=0.7,  # Adjust for diversity (lower = more deterministic)\n",
    "#         top_k=50,  # Consider top-k sampling\n",
    "#         top_p=0.95,  # Nucleus sampling\n",
    "#         do_sample=True  # Enables sampling instead of greedy decoding\n",
    "#     )\n",
    "\n",
    "# # Decode generated text\n",
    "# generated_text = tokenizer.decode(generated_ids[0], skip_special_tokens=True)\n",
    "\n",
    "# print(\"Generated text:\", generated_text)\n"
   ]
  },
  {
   "cell_type": "code",
   "execution_count": 6,
   "metadata": {},
   "outputs": [],
   "source": [
    "from hooks import *\n",
    "remove_all_forward_hooks(model)\n",
    "register_all_forward_hooks(model)\n",
    "\n",
    "batch_size = 16\n",
    "total_samples = 1024\n",
    "num_batches = total_samples // batch_size\n",
    "\n",
    "prompt = \"The future of AI is\"\n",
    "inputs = tokenizer(prompt, return_tensors=\"pt\").to(device)\n",
    "\n",
    "with torch.no_grad():\n",
    "    for _ in range(num_batches):\n",
    "        outputs = model(**inputs)\n",
    "compute_importance_scores(model)"
   ]
  },
  {
   "cell_type": "code",
   "execution_count": 7,
   "metadata": {},
   "outputs": [
    {
     "name": "stdout",
     "output_type": "stream",
     "text": [
      "Layer LayerNorm: Ptransformer.h.0.ln_1 : importance scores: torch.Size([1024])\n",
      "Layer Conv1D: Ptransformer.h.0.attn.c_proj : importance scores: torch.Size([16])\n",
      "Layer LayerNorm: Ptransformer.h.0.ln_2 : importance scores: torch.Size([1024])\n",
      "Layer Conv1D: Ptransformer.h.0.mlp.c_fc : importance scores: torch.Size([4096])\n",
      "Layer LayerNorm: Ptransformer.h.1.ln_1 : importance scores: torch.Size([1024])\n",
      "Layer Conv1D: Ptransformer.h.1.attn.c_proj : importance scores: torch.Size([16])\n",
      "Layer LayerNorm: Ptransformer.h.1.ln_2 : importance scores: torch.Size([1024])\n",
      "Layer Conv1D: Ptransformer.h.1.mlp.c_fc : importance scores: torch.Size([4096])\n",
      "Layer LayerNorm: Ptransformer.h.2.ln_1 : importance scores: torch.Size([1024])\n",
      "Layer Conv1D: Ptransformer.h.2.attn.c_proj : importance scores: torch.Size([16])\n",
      "Layer LayerNorm: Ptransformer.h.2.ln_2 : importance scores: torch.Size([1024])\n",
      "Layer Conv1D: Ptransformer.h.2.mlp.c_fc : importance scores: torch.Size([4096])\n",
      "Layer LayerNorm: Ptransformer.h.3.ln_1 : importance scores: torch.Size([1024])\n",
      "Layer Conv1D: Ptransformer.h.3.attn.c_proj : importance scores: torch.Size([16])\n",
      "Layer LayerNorm: Ptransformer.h.3.ln_2 : importance scores: torch.Size([1024])\n",
      "Layer Conv1D: Ptransformer.h.3.mlp.c_fc : importance scores: torch.Size([4096])\n",
      "Layer LayerNorm: Ptransformer.h.4.ln_1 : importance scores: torch.Size([1024])\n",
      "Layer Conv1D: Ptransformer.h.4.attn.c_proj : importance scores: torch.Size([16])\n",
      "Layer LayerNorm: Ptransformer.h.4.ln_2 : importance scores: torch.Size([1024])\n",
      "Layer Conv1D: Ptransformer.h.4.mlp.c_fc : importance scores: torch.Size([4096])\n",
      "Layer LayerNorm: Ptransformer.h.5.ln_1 : importance scores: torch.Size([1024])\n",
      "Layer Conv1D: Ptransformer.h.5.attn.c_proj : importance scores: torch.Size([16])\n",
      "Layer LayerNorm: Ptransformer.h.5.ln_2 : importance scores: torch.Size([1024])\n",
      "Layer Conv1D: Ptransformer.h.5.mlp.c_fc : importance scores: torch.Size([4096])\n",
      "Layer LayerNorm: Ptransformer.h.6.ln_1 : importance scores: torch.Size([1024])\n",
      "Layer Conv1D: Ptransformer.h.6.attn.c_proj : importance scores: torch.Size([16])\n",
      "Layer LayerNorm: Ptransformer.h.6.ln_2 : importance scores: torch.Size([1024])\n",
      "Layer Conv1D: Ptransformer.h.6.mlp.c_fc : importance scores: torch.Size([4096])\n",
      "Layer LayerNorm: Ptransformer.h.7.ln_1 : importance scores: torch.Size([1024])\n",
      "Layer Conv1D: Ptransformer.h.7.attn.c_proj : importance scores: torch.Size([16])\n",
      "Layer LayerNorm: Ptransformer.h.7.ln_2 : importance scores: torch.Size([1024])\n",
      "Layer Conv1D: Ptransformer.h.7.mlp.c_fc : importance scores: torch.Size([4096])\n",
      "Layer LayerNorm: Ptransformer.h.8.ln_1 : importance scores: torch.Size([1024])\n",
      "Layer Conv1D: Ptransformer.h.8.attn.c_proj : importance scores: torch.Size([16])\n",
      "Layer LayerNorm: Ptransformer.h.8.ln_2 : importance scores: torch.Size([1024])\n",
      "Layer Conv1D: Ptransformer.h.8.mlp.c_fc : importance scores: torch.Size([4096])\n",
      "Layer LayerNorm: Ptransformer.h.9.ln_1 : importance scores: torch.Size([1024])\n",
      "Layer Conv1D: Ptransformer.h.9.attn.c_proj : importance scores: torch.Size([16])\n",
      "Layer LayerNorm: Ptransformer.h.9.ln_2 : importance scores: torch.Size([1024])\n",
      "Layer Conv1D: Ptransformer.h.9.mlp.c_fc : importance scores: torch.Size([4096])\n",
      "Layer LayerNorm: Ptransformer.h.10.ln_1 : importance scores: torch.Size([1024])\n",
      "Layer Conv1D: Ptransformer.h.10.attn.c_proj : importance scores: torch.Size([16])\n",
      "Layer LayerNorm: Ptransformer.h.10.ln_2 : importance scores: torch.Size([1024])\n",
      "Layer Conv1D: Ptransformer.h.10.mlp.c_fc : importance scores: torch.Size([4096])\n",
      "Layer LayerNorm: Ptransformer.h.11.ln_1 : importance scores: torch.Size([1024])\n",
      "Layer Conv1D: Ptransformer.h.11.attn.c_proj : importance scores: torch.Size([16])\n",
      "Layer LayerNorm: Ptransformer.h.11.ln_2 : importance scores: torch.Size([1024])\n",
      "Layer Conv1D: Ptransformer.h.11.mlp.c_fc : importance scores: torch.Size([4096])\n",
      "Layer LayerNorm: Ptransformer.h.12.ln_1 : importance scores: torch.Size([1024])\n",
      "Layer Conv1D: Ptransformer.h.12.attn.c_proj : importance scores: torch.Size([16])\n",
      "Layer LayerNorm: Ptransformer.h.12.ln_2 : importance scores: torch.Size([1024])\n",
      "Layer Conv1D: Ptransformer.h.12.mlp.c_fc : importance scores: torch.Size([4096])\n",
      "Layer LayerNorm: Ptransformer.h.13.ln_1 : importance scores: torch.Size([1024])\n",
      "Layer Conv1D: Ptransformer.h.13.attn.c_proj : importance scores: torch.Size([16])\n",
      "Layer LayerNorm: Ptransformer.h.13.ln_2 : importance scores: torch.Size([1024])\n",
      "Layer Conv1D: Ptransformer.h.13.mlp.c_fc : importance scores: torch.Size([4096])\n",
      "Layer LayerNorm: Ptransformer.h.14.ln_1 : importance scores: torch.Size([1024])\n",
      "Layer Conv1D: Ptransformer.h.14.attn.c_proj : importance scores: torch.Size([16])\n",
      "Layer LayerNorm: Ptransformer.h.14.ln_2 : importance scores: torch.Size([1024])\n",
      "Layer Conv1D: Ptransformer.h.14.mlp.c_fc : importance scores: torch.Size([4096])\n",
      "Layer LayerNorm: Ptransformer.h.15.ln_1 : importance scores: torch.Size([1024])\n",
      "Layer Conv1D: Ptransformer.h.15.attn.c_proj : importance scores: torch.Size([16])\n",
      "Layer LayerNorm: Ptransformer.h.15.ln_2 : importance scores: torch.Size([1024])\n",
      "Layer Conv1D: Ptransformer.h.15.mlp.c_fc : importance scores: torch.Size([4096])\n",
      "Layer LayerNorm: Ptransformer.h.16.ln_1 : importance scores: torch.Size([1024])\n",
      "Layer Conv1D: Ptransformer.h.16.attn.c_proj : importance scores: torch.Size([16])\n",
      "Layer LayerNorm: Ptransformer.h.16.ln_2 : importance scores: torch.Size([1024])\n",
      "Layer Conv1D: Ptransformer.h.16.mlp.c_fc : importance scores: torch.Size([4096])\n",
      "Layer LayerNorm: Ptransformer.h.17.ln_1 : importance scores: torch.Size([1024])\n",
      "Layer Conv1D: Ptransformer.h.17.attn.c_proj : importance scores: torch.Size([16])\n",
      "Layer LayerNorm: Ptransformer.h.17.ln_2 : importance scores: torch.Size([1024])\n",
      "Layer Conv1D: Ptransformer.h.17.mlp.c_fc : importance scores: torch.Size([4096])\n",
      "Layer LayerNorm: Ptransformer.h.18.ln_1 : importance scores: torch.Size([1024])\n",
      "Layer Conv1D: Ptransformer.h.18.attn.c_proj : importance scores: torch.Size([16])\n",
      "Layer LayerNorm: Ptransformer.h.18.ln_2 : importance scores: torch.Size([1024])\n",
      "Layer Conv1D: Ptransformer.h.18.mlp.c_fc : importance scores: torch.Size([4096])\n",
      "Layer LayerNorm: Ptransformer.h.19.ln_1 : importance scores: torch.Size([1024])\n",
      "Layer Conv1D: Ptransformer.h.19.attn.c_proj : importance scores: torch.Size([16])\n",
      "Layer LayerNorm: Ptransformer.h.19.ln_2 : importance scores: torch.Size([1024])\n",
      "Layer Conv1D: Ptransformer.h.19.mlp.c_fc : importance scores: torch.Size([4096])\n",
      "Layer LayerNorm: Ptransformer.h.20.ln_1 : importance scores: torch.Size([1024])\n",
      "Layer Conv1D: Ptransformer.h.20.attn.c_proj : importance scores: torch.Size([16])\n",
      "Layer LayerNorm: Ptransformer.h.20.ln_2 : importance scores: torch.Size([1024])\n",
      "Layer Conv1D: Ptransformer.h.20.mlp.c_fc : importance scores: torch.Size([4096])\n",
      "Layer LayerNorm: Ptransformer.h.21.ln_1 : importance scores: torch.Size([1024])\n",
      "Layer Conv1D: Ptransformer.h.21.attn.c_proj : importance scores: torch.Size([16])\n",
      "Layer LayerNorm: Ptransformer.h.21.ln_2 : importance scores: torch.Size([1024])\n",
      "Layer Conv1D: Ptransformer.h.21.mlp.c_fc : importance scores: torch.Size([4096])\n",
      "Layer LayerNorm: Ptransformer.h.22.ln_1 : importance scores: torch.Size([1024])\n",
      "Layer Conv1D: Ptransformer.h.22.attn.c_proj : importance scores: torch.Size([16])\n",
      "Layer LayerNorm: Ptransformer.h.22.ln_2 : importance scores: torch.Size([1024])\n",
      "Layer Conv1D: Ptransformer.h.22.mlp.c_fc : importance scores: torch.Size([4096])\n",
      "Layer LayerNorm: Ptransformer.h.23.ln_1 : importance scores: torch.Size([1024])\n",
      "Layer Conv1D: Ptransformer.h.23.attn.c_proj : importance scores: torch.Size([16])\n",
      "Layer LayerNorm: Ptransformer.h.23.ln_2 : importance scores: torch.Size([1024])\n",
      "Layer Conv1D: Ptransformer.h.23.mlp.c_fc : importance scores: torch.Size([4096])\n",
      "Layer LayerNorm: Ptransformer.ln_f : importance scores: torch.Size([1024])\n"
     ]
    }
   ],
   "source": [
    "# Print importance scores for each registered module\n",
    "for name, module in model.named_modules():\n",
    "    if hasattr(module, \"importance_scores\"):\n",
    "        print(f\"Layer {module.__class__.__name__}: P{name} : importance scores:\", module.importance_scores.shape)"
   ]
  },
  {
   "cell_type": "code",
   "execution_count": 7,
   "metadata": {},
   "outputs": [],
   "source": [
    "# i = 0\n",
    "# for module in model.modules():\n",
    "#     if hasattr(module, \"importance_buffer\") and module.importance_buffer:\n",
    "#         # print(module.importance_buffer)\n",
    "#         print(module.__class__.__name__)\n",
    "#         print(len(module.importance_buffer))\n",
    "#         print(module.importance_buffer[0].shape)\n",
    "#         print('============')\n",
    "        \n",
    "#         print([module.importance_buffer[i].shape for i in range(len(module.importance_buffer))])\n",
    "#         print('============')\n",
    "#         i += 1\n",
    "#         if i>10:\n",
    "#             break\n",
    "#         # all_outputs = torch.cat(module.importance_buffer, dim=0)  # Concatenate over batch dimension\n",
    "\n",
    "#         # # Compute norm-based importance\n",
    "#         # importance = all_outputs.norm(p=2, dim=0).mean(dim=0)\n",
    "\n",
    "#         # module.importance_scores = importance\n",
    "#         # del module.importance_buffer"
   ]
  },
  {
   "cell_type": "code",
   "execution_count": 8,
   "metadata": {},
   "outputs": [
    {
     "data": {
      "text/plain": [
       "<module 'pruning' from '/users/eleves-a/2021/ahmad.rammal/Desktop/pruned_GPT/pruning.py'>"
      ]
     },
     "execution_count": 8,
     "metadata": {},
     "output_type": "execute_result"
    }
   ],
   "source": [
    "import pruning \n",
    "import utils\n",
    "import importlib\n",
    "importlib.reload(utils) \n",
    "importlib.reload(pruning) \n"
   ]
  },
  {
   "cell_type": "code",
   "execution_count": 16,
   "metadata": {},
   "outputs": [
    {
     "name": "stdout",
     "output_type": "stream",
     "text": [
      "torch.Size([1024, 2048])\n",
      "torch.Size([2048, 1024])\n"
     ]
    }
   ],
   "source": [
    "print(model.transformer.h[0].mlp.c_fc.weight.shape)\n",
    "print(model.transformer.h[0].mlp.c_proj.weight.shape)"
   ]
  },
  {
   "cell_type": "code",
   "execution_count": 17,
   "metadata": {},
   "outputs": [
    {
     "name": "stdout",
     "output_type": "stream",
     "text": [
      "torch.Size([1024, 4096])\n",
      "torch.Size([4096, 1024])\n"
     ]
    }
   ],
   "source": [
    "print(model.transformer.h[1].mlp.c_fc.weight.shape)\n",
    "print(model.transformer.h[1].mlp.c_proj.weight.shape)"
   ]
  },
  {
   "cell_type": "code",
   "execution_count": 9,
   "metadata": {},
   "outputs": [
    {
     "name": "stdout",
     "output_type": "stream",
     "text": [
      "Pruning MLP layer to 2048 neurons\n",
      "Pruning MLP layer to 2048 neurons\n"
     ]
    },
    {
     "ename": "RuntimeError",
     "evalue": "CUDA error: device-side assert triggered\nCUDA kernel errors might be asynchronously reported at some other API call, so the stacktrace below might be incorrect.\nFor debugging consider passing CUDA_LAUNCH_BLOCKING=1\nCompile with `TORCH_USE_CUDA_DSA` to enable device-side assertions.\n",
     "output_type": "error",
     "traceback": [
      "\u001b[0;31m---------------------------------------------------------------------------\u001b[0m",
      "\u001b[0;31mRuntimeError\u001b[0m                              Traceback (most recent call last)",
      "Cell \u001b[0;32mIn[9], line 1\u001b[0m\n\u001b[0;32m----> 1\u001b[0m \u001b[43mpruning\u001b[49m\u001b[38;5;241;43m.\u001b[39;49m\u001b[43mprune_mlp\u001b[49m\u001b[43m(\u001b[49m\u001b[43mmodel\u001b[49m\u001b[43m,\u001b[49m\u001b[43m \u001b[49m\u001b[38;5;241;43m2\u001b[39;49m\u001b[43m)\u001b[49m\n",
      "File \u001b[0;32m~/Desktop/pruned_GPT/pruning.py:17\u001b[0m, in \u001b[0;36mprune_mlp\u001b[0;34m(model, mult_factor)\u001b[0m\n\u001b[1;32m     15\u001b[0m \u001b[38;5;28mprint\u001b[39m(\u001b[38;5;124m\"\u001b[39m\u001b[38;5;124mPruning MLP layer to\u001b[39m\u001b[38;5;124m\"\u001b[39m, num_neurons, \u001b[38;5;124m\"\u001b[39m\u001b[38;5;124mneurons\u001b[39m\u001b[38;5;124m\"\u001b[39m)\n\u001b[1;32m     16\u001b[0m idx \u001b[38;5;241m=\u001b[39m importances\u001b[38;5;241m.\u001b[39margsort(descending\u001b[38;5;241m=\u001b[39m\u001b[38;5;28;01mTrue\u001b[39;00m)[:num_neurons]\n\u001b[0;32m---> 17\u001b[0m module\u001b[38;5;241m.\u001b[39mc_fc \u001b[38;5;241m=\u001b[39m \u001b[43mpruned_layer\u001b[49m\u001b[43m(\u001b[49m\u001b[43mmodule\u001b[49m\u001b[38;5;241;43m.\u001b[39;49m\u001b[43mc_fc\u001b[49m\u001b[43m,\u001b[49m\u001b[43m \u001b[49m\u001b[43midx\u001b[49m\u001b[43m,\u001b[49m\u001b[43m \u001b[49m\u001b[43mmodel\u001b[49m\u001b[38;5;241;43m.\u001b[39;49m\u001b[43mdevice\u001b[49m\u001b[43m,\u001b[49m\u001b[43m \u001b[49m\u001b[43mdim\u001b[49m\u001b[38;5;241;43m=\u001b[39;49m\u001b[38;5;241;43m1\u001b[39;49m\u001b[43m)\u001b[49m\n\u001b[1;32m     18\u001b[0m module\u001b[38;5;241m.\u001b[39mc_proj \u001b[38;5;241m=\u001b[39m pruned_layer(module\u001b[38;5;241m.\u001b[39mc_proj, idx, model\u001b[38;5;241m.\u001b[39mdevice, dim\u001b[38;5;241m=\u001b[39m\u001b[38;5;241m0\u001b[39m)\n",
      "File \u001b[0;32m~/Desktop/pruned_GPT/utils.py:27\u001b[0m, in \u001b[0;36mpruned_layer\u001b[0;34m(layer, idx, device, dim)\u001b[0m\n\u001b[1;32m     25\u001b[0m         new_layer\u001b[38;5;241m.\u001b[39mbias\u001b[38;5;241m.\u001b[39mdata \u001b[38;5;241m=\u001b[39m layer\u001b[38;5;241m.\u001b[39mbias\u001b[38;5;241m.\u001b[39mdata[idx]\n\u001b[1;32m     26\u001b[0m \u001b[38;5;28;01melif\u001b[39;00m dim \u001b[38;5;241m==\u001b[39m \u001b[38;5;241m1\u001b[39m:\n\u001b[0;32m---> 27\u001b[0m     new_layer \u001b[38;5;241m=\u001b[39m \u001b[43mnn\u001b[49m\u001b[38;5;241;43m.\u001b[39;49m\u001b[43mLinear\u001b[49m\u001b[43m(\u001b[49m\u001b[43mlayer\u001b[49m\u001b[38;5;241;43m.\u001b[39;49m\u001b[43mnx\u001b[49m\u001b[43m,\u001b[49m\u001b[43m \u001b[49m\u001b[43mnum_neurons\u001b[49m\u001b[43m,\u001b[49m\u001b[43m \u001b[49m\u001b[43mbias\u001b[49m\u001b[38;5;241;43m=\u001b[39;49m\u001b[43mlayer\u001b[49m\u001b[38;5;241;43m.\u001b[39;49m\u001b[43mbias\u001b[49m\u001b[43m \u001b[49m\u001b[38;5;129;43;01mis\u001b[39;49;00m\u001b[43m \u001b[49m\u001b[38;5;129;43;01mnot\u001b[39;49;00m\u001b[43m \u001b[49m\u001b[38;5;28;43;01mNone\u001b[39;49;00m\u001b[43m)\u001b[49m\u001b[38;5;241;43m.\u001b[39;49m\u001b[43mto\u001b[49m\u001b[43m(\u001b[49m\u001b[43mdevice\u001b[49m\u001b[43m)\u001b[49m\n\u001b[1;32m     28\u001b[0m     new_layer\u001b[38;5;241m.\u001b[39mweight\u001b[38;5;241m.\u001b[39mdata \u001b[38;5;241m=\u001b[39m layer\u001b[38;5;241m.\u001b[39mweight\u001b[38;5;241m.\u001b[39mdata[:, idx]\n\u001b[1;32m     29\u001b[0m     \u001b[38;5;28;01mif\u001b[39;00m layer\u001b[38;5;241m.\u001b[39mbias \u001b[38;5;129;01mis\u001b[39;00m \u001b[38;5;129;01mnot\u001b[39;00m \u001b[38;5;28;01mNone\u001b[39;00m:\n",
      "File \u001b[0;32m~/miniconda3/envs/colab/lib/python3.10/site-packages/torch/nn/modules/module.py:1343\u001b[0m, in \u001b[0;36mModule.to\u001b[0;34m(self, *args, **kwargs)\u001b[0m\n\u001b[1;32m   1340\u001b[0m         \u001b[38;5;28;01melse\u001b[39;00m:\n\u001b[1;32m   1341\u001b[0m             \u001b[38;5;28;01mraise\u001b[39;00m\n\u001b[0;32m-> 1343\u001b[0m \u001b[38;5;28;01mreturn\u001b[39;00m \u001b[38;5;28;43mself\u001b[39;49m\u001b[38;5;241;43m.\u001b[39;49m\u001b[43m_apply\u001b[49m\u001b[43m(\u001b[49m\u001b[43mconvert\u001b[49m\u001b[43m)\u001b[49m\n",
      "File \u001b[0;32m~/miniconda3/envs/colab/lib/python3.10/site-packages/torch/nn/modules/module.py:930\u001b[0m, in \u001b[0;36mModule._apply\u001b[0;34m(self, fn, recurse)\u001b[0m\n\u001b[1;32m    926\u001b[0m \u001b[38;5;66;03m# Tensors stored in modules are graph leaves, and we don't want to\u001b[39;00m\n\u001b[1;32m    927\u001b[0m \u001b[38;5;66;03m# track autograd history of `param_applied`, so we have to use\u001b[39;00m\n\u001b[1;32m    928\u001b[0m \u001b[38;5;66;03m# `with torch.no_grad():`\u001b[39;00m\n\u001b[1;32m    929\u001b[0m \u001b[38;5;28;01mwith\u001b[39;00m torch\u001b[38;5;241m.\u001b[39mno_grad():\n\u001b[0;32m--> 930\u001b[0m     param_applied \u001b[38;5;241m=\u001b[39m \u001b[43mfn\u001b[49m\u001b[43m(\u001b[49m\u001b[43mparam\u001b[49m\u001b[43m)\u001b[49m\n\u001b[1;32m    931\u001b[0m p_should_use_set_data \u001b[38;5;241m=\u001b[39m compute_should_use_set_data(param, param_applied)\n\u001b[1;32m    933\u001b[0m \u001b[38;5;66;03m# subclasses may have multiple child tensors so we need to use swap_tensors\u001b[39;00m\n",
      "File \u001b[0;32m~/miniconda3/envs/colab/lib/python3.10/site-packages/torch/nn/modules/module.py:1329\u001b[0m, in \u001b[0;36mModule.to.<locals>.convert\u001b[0;34m(t)\u001b[0m\n\u001b[1;32m   1322\u001b[0m     \u001b[38;5;28;01mif\u001b[39;00m convert_to_format \u001b[38;5;129;01mis\u001b[39;00m \u001b[38;5;129;01mnot\u001b[39;00m \u001b[38;5;28;01mNone\u001b[39;00m \u001b[38;5;129;01mand\u001b[39;00m t\u001b[38;5;241m.\u001b[39mdim() \u001b[38;5;129;01min\u001b[39;00m (\u001b[38;5;241m4\u001b[39m, \u001b[38;5;241m5\u001b[39m):\n\u001b[1;32m   1323\u001b[0m         \u001b[38;5;28;01mreturn\u001b[39;00m t\u001b[38;5;241m.\u001b[39mto(\n\u001b[1;32m   1324\u001b[0m             device,\n\u001b[1;32m   1325\u001b[0m             dtype \u001b[38;5;28;01mif\u001b[39;00m t\u001b[38;5;241m.\u001b[39mis_floating_point() \u001b[38;5;129;01mor\u001b[39;00m t\u001b[38;5;241m.\u001b[39mis_complex() \u001b[38;5;28;01melse\u001b[39;00m \u001b[38;5;28;01mNone\u001b[39;00m,\n\u001b[1;32m   1326\u001b[0m             non_blocking,\n\u001b[1;32m   1327\u001b[0m             memory_format\u001b[38;5;241m=\u001b[39mconvert_to_format,\n\u001b[1;32m   1328\u001b[0m         )\n\u001b[0;32m-> 1329\u001b[0m     \u001b[38;5;28;01mreturn\u001b[39;00m \u001b[43mt\u001b[49m\u001b[38;5;241;43m.\u001b[39;49m\u001b[43mto\u001b[49m\u001b[43m(\u001b[49m\n\u001b[1;32m   1330\u001b[0m \u001b[43m        \u001b[49m\u001b[43mdevice\u001b[49m\u001b[43m,\u001b[49m\n\u001b[1;32m   1331\u001b[0m \u001b[43m        \u001b[49m\u001b[43mdtype\u001b[49m\u001b[43m \u001b[49m\u001b[38;5;28;43;01mif\u001b[39;49;00m\u001b[43m \u001b[49m\u001b[43mt\u001b[49m\u001b[38;5;241;43m.\u001b[39;49m\u001b[43mis_floating_point\u001b[49m\u001b[43m(\u001b[49m\u001b[43m)\u001b[49m\u001b[43m \u001b[49m\u001b[38;5;129;43;01mor\u001b[39;49;00m\u001b[43m \u001b[49m\u001b[43mt\u001b[49m\u001b[38;5;241;43m.\u001b[39;49m\u001b[43mis_complex\u001b[49m\u001b[43m(\u001b[49m\u001b[43m)\u001b[49m\u001b[43m \u001b[49m\u001b[38;5;28;43;01melse\u001b[39;49;00m\u001b[43m \u001b[49m\u001b[38;5;28;43;01mNone\u001b[39;49;00m\u001b[43m,\u001b[49m\n\u001b[1;32m   1332\u001b[0m \u001b[43m        \u001b[49m\u001b[43mnon_blocking\u001b[49m\u001b[43m,\u001b[49m\n\u001b[1;32m   1333\u001b[0m \u001b[43m    \u001b[49m\u001b[43m)\u001b[49m\n\u001b[1;32m   1334\u001b[0m \u001b[38;5;28;01mexcept\u001b[39;00m \u001b[38;5;167;01mNotImplementedError\u001b[39;00m \u001b[38;5;28;01mas\u001b[39;00m e:\n\u001b[1;32m   1335\u001b[0m     \u001b[38;5;28;01mif\u001b[39;00m \u001b[38;5;28mstr\u001b[39m(e) \u001b[38;5;241m==\u001b[39m \u001b[38;5;124m\"\u001b[39m\u001b[38;5;124mCannot copy out of meta tensor; no data!\u001b[39m\u001b[38;5;124m\"\u001b[39m:\n",
      "\u001b[0;31mRuntimeError\u001b[0m: CUDA error: device-side assert triggered\nCUDA kernel errors might be asynchronously reported at some other API call, so the stacktrace below might be incorrect.\nFor debugging consider passing CUDA_LAUNCH_BLOCKING=1\nCompile with `TORCH_USE_CUDA_DSA` to enable device-side assertions.\n"
     ]
    }
   ],
   "source": [
    "pruning.prune_mlp(model, 2)"
   ]
  },
  {
   "cell_type": "code",
   "execution_count": 12,
   "metadata": {},
   "outputs": [
    {
     "ename": "RuntimeError",
     "evalue": "CUDA error: device-side assert triggered\nCUDA kernel errors might be asynchronously reported at some other API call, so the stacktrace below might be incorrect.\nFor debugging consider passing CUDA_LAUNCH_BLOCKING=1\nCompile with `TORCH_USE_CUDA_DSA` to enable device-side assertions.\n",
     "output_type": "error",
     "traceback": [
      "\u001b[0;31m---------------------------------------------------------------------------\u001b[0m",
      "\u001b[0;31mRuntimeError\u001b[0m                              Traceback (most recent call last)",
      "Cell \u001b[0;32mIn[12], line 1\u001b[0m\n\u001b[0;32m----> 1\u001b[0m new_layersakl_ \u001b[38;5;241m=\u001b[39m \u001b[43mnn\u001b[49m\u001b[38;5;241;43m.\u001b[39;49m\u001b[43mLinear\u001b[49m\u001b[43m(\u001b[49m\u001b[38;5;241;43m2\u001b[39;49m\u001b[43m,\u001b[49m\u001b[43m \u001b[49m\u001b[38;5;241;43m5\u001b[39;49m\u001b[43m,\u001b[49m\u001b[43m \u001b[49m\u001b[43mbias\u001b[49m\u001b[38;5;241;43m=\u001b[39;49m\u001b[38;5;28;43;01mTrue\u001b[39;49;00m\u001b[43m)\u001b[49m\u001b[38;5;241;43m.\u001b[39;49m\u001b[43mto\u001b[49m\u001b[43m(\u001b[49m\u001b[43mdevice\u001b[49m\u001b[43m)\u001b[49m\n",
      "File \u001b[0;32m~/miniconda3/envs/colab/lib/python3.10/site-packages/torch/nn/modules/module.py:1343\u001b[0m, in \u001b[0;36mModule.to\u001b[0;34m(self, *args, **kwargs)\u001b[0m\n\u001b[1;32m   1340\u001b[0m         \u001b[38;5;28;01melse\u001b[39;00m:\n\u001b[1;32m   1341\u001b[0m             \u001b[38;5;28;01mraise\u001b[39;00m\n\u001b[0;32m-> 1343\u001b[0m \u001b[38;5;28;01mreturn\u001b[39;00m \u001b[38;5;28;43mself\u001b[39;49m\u001b[38;5;241;43m.\u001b[39;49m\u001b[43m_apply\u001b[49m\u001b[43m(\u001b[49m\u001b[43mconvert\u001b[49m\u001b[43m)\u001b[49m\n",
      "File \u001b[0;32m~/miniconda3/envs/colab/lib/python3.10/site-packages/torch/nn/modules/module.py:930\u001b[0m, in \u001b[0;36mModule._apply\u001b[0;34m(self, fn, recurse)\u001b[0m\n\u001b[1;32m    926\u001b[0m \u001b[38;5;66;03m# Tensors stored in modules are graph leaves, and we don't want to\u001b[39;00m\n\u001b[1;32m    927\u001b[0m \u001b[38;5;66;03m# track autograd history of `param_applied`, so we have to use\u001b[39;00m\n\u001b[1;32m    928\u001b[0m \u001b[38;5;66;03m# `with torch.no_grad():`\u001b[39;00m\n\u001b[1;32m    929\u001b[0m \u001b[38;5;28;01mwith\u001b[39;00m torch\u001b[38;5;241m.\u001b[39mno_grad():\n\u001b[0;32m--> 930\u001b[0m     param_applied \u001b[38;5;241m=\u001b[39m \u001b[43mfn\u001b[49m\u001b[43m(\u001b[49m\u001b[43mparam\u001b[49m\u001b[43m)\u001b[49m\n\u001b[1;32m    931\u001b[0m p_should_use_set_data \u001b[38;5;241m=\u001b[39m compute_should_use_set_data(param, param_applied)\n\u001b[1;32m    933\u001b[0m \u001b[38;5;66;03m# subclasses may have multiple child tensors so we need to use swap_tensors\u001b[39;00m\n",
      "File \u001b[0;32m~/miniconda3/envs/colab/lib/python3.10/site-packages/torch/nn/modules/module.py:1329\u001b[0m, in \u001b[0;36mModule.to.<locals>.convert\u001b[0;34m(t)\u001b[0m\n\u001b[1;32m   1322\u001b[0m     \u001b[38;5;28;01mif\u001b[39;00m convert_to_format \u001b[38;5;129;01mis\u001b[39;00m \u001b[38;5;129;01mnot\u001b[39;00m \u001b[38;5;28;01mNone\u001b[39;00m \u001b[38;5;129;01mand\u001b[39;00m t\u001b[38;5;241m.\u001b[39mdim() \u001b[38;5;129;01min\u001b[39;00m (\u001b[38;5;241m4\u001b[39m, \u001b[38;5;241m5\u001b[39m):\n\u001b[1;32m   1323\u001b[0m         \u001b[38;5;28;01mreturn\u001b[39;00m t\u001b[38;5;241m.\u001b[39mto(\n\u001b[1;32m   1324\u001b[0m             device,\n\u001b[1;32m   1325\u001b[0m             dtype \u001b[38;5;28;01mif\u001b[39;00m t\u001b[38;5;241m.\u001b[39mis_floating_point() \u001b[38;5;129;01mor\u001b[39;00m t\u001b[38;5;241m.\u001b[39mis_complex() \u001b[38;5;28;01melse\u001b[39;00m \u001b[38;5;28;01mNone\u001b[39;00m,\n\u001b[1;32m   1326\u001b[0m             non_blocking,\n\u001b[1;32m   1327\u001b[0m             memory_format\u001b[38;5;241m=\u001b[39mconvert_to_format,\n\u001b[1;32m   1328\u001b[0m         )\n\u001b[0;32m-> 1329\u001b[0m     \u001b[38;5;28;01mreturn\u001b[39;00m \u001b[43mt\u001b[49m\u001b[38;5;241;43m.\u001b[39;49m\u001b[43mto\u001b[49m\u001b[43m(\u001b[49m\n\u001b[1;32m   1330\u001b[0m \u001b[43m        \u001b[49m\u001b[43mdevice\u001b[49m\u001b[43m,\u001b[49m\n\u001b[1;32m   1331\u001b[0m \u001b[43m        \u001b[49m\u001b[43mdtype\u001b[49m\u001b[43m \u001b[49m\u001b[38;5;28;43;01mif\u001b[39;49;00m\u001b[43m \u001b[49m\u001b[43mt\u001b[49m\u001b[38;5;241;43m.\u001b[39;49m\u001b[43mis_floating_point\u001b[49m\u001b[43m(\u001b[49m\u001b[43m)\u001b[49m\u001b[43m \u001b[49m\u001b[38;5;129;43;01mor\u001b[39;49;00m\u001b[43m \u001b[49m\u001b[43mt\u001b[49m\u001b[38;5;241;43m.\u001b[39;49m\u001b[43mis_complex\u001b[49m\u001b[43m(\u001b[49m\u001b[43m)\u001b[49m\u001b[43m \u001b[49m\u001b[38;5;28;43;01melse\u001b[39;49;00m\u001b[43m \u001b[49m\u001b[38;5;28;43;01mNone\u001b[39;49;00m\u001b[43m,\u001b[49m\n\u001b[1;32m   1332\u001b[0m \u001b[43m        \u001b[49m\u001b[43mnon_blocking\u001b[49m\u001b[43m,\u001b[49m\n\u001b[1;32m   1333\u001b[0m \u001b[43m    \u001b[49m\u001b[43m)\u001b[49m\n\u001b[1;32m   1334\u001b[0m \u001b[38;5;28;01mexcept\u001b[39;00m \u001b[38;5;167;01mNotImplementedError\u001b[39;00m \u001b[38;5;28;01mas\u001b[39;00m e:\n\u001b[1;32m   1335\u001b[0m     \u001b[38;5;28;01mif\u001b[39;00m \u001b[38;5;28mstr\u001b[39m(e) \u001b[38;5;241m==\u001b[39m \u001b[38;5;124m\"\u001b[39m\u001b[38;5;124mCannot copy out of meta tensor; no data!\u001b[39m\u001b[38;5;124m\"\u001b[39m:\n",
      "\u001b[0;31mRuntimeError\u001b[0m: CUDA error: device-side assert triggered\nCUDA kernel errors might be asynchronously reported at some other API call, so the stacktrace below might be incorrect.\nFor debugging consider passing CUDA_LAUNCH_BLOCKING=1\nCompile with `TORCH_USE_CUDA_DSA` to enable device-side assertions.\n"
     ]
    }
   ],
   "source": [
    "new_layersakl_ = nn.Linear(2, 5, bias=True).to(device)"
   ]
  },
  {
   "cell_type": "code",
   "execution_count": 11,
   "metadata": {},
   "outputs": [],
   "source": [
    "layer = model.transformer.h[0].mlp.c_fc\n",
    "idx = torch.tensor([0, 1]).to('cuda')\n",
    "dim = 1\n",
    "num_neurons = idx.size(0)\n",
    "if dim == 0:\n",
    "    new_layer = nn.Linear(num_neurons, layer.out_features, bias=layer.bias is not None).to(device)\n",
    "    new_layer.weight.data = layer.weight.data[:, idx]\n",
    "    if layer.bias is not None:\n",
    "        new_layer.bias.data = layer.bias.data[idx]\n",
    "\n",
    "elif dim == 1:\n",
    "    new_layer = nn.Linear(layer.nx, num_neurons, bias=layer.bias is not None).to(device)"
   ]
  },
  {
   "cell_type": "code",
   "execution_count": 13,
   "metadata": {},
   "outputs": [],
   "source": [
    "new_layer.weight.data = layer.weight.data[idx, :]\n",
    "\n",
    "# else:\n",
    "#     raise ValueError(\"Invalid dimension\")"
   ]
  },
  {
   "cell_type": "code",
   "execution_count": 14,
   "metadata": {},
   "outputs": [],
   "source": [
    "if layer.bias is not None:\n",
    "    new_layer.bias.data = layer.bias.data[idx]"
   ]
  },
  {
   "cell_type": "code",
   "execution_count": 15,
   "metadata": {},
   "outputs": [
    {
     "data": {
      "text/plain": [
       "(torch.Size([2, 4096]), torch.Size([2]))"
      ]
     },
     "execution_count": 15,
     "metadata": {},
     "output_type": "execute_result"
    }
   ],
   "source": [
    "new_layer.weight.data.shape, new_layer.bias.data.shape"
   ]
  },
  {
   "cell_type": "code",
   "execution_count": 16,
   "metadata": {},
   "outputs": [
    {
     "data": {
      "text/plain": [
       "(torch.Size([1024, 4096]), torch.Size([4096]))"
      ]
     },
     "execution_count": 16,
     "metadata": {},
     "output_type": "execute_result"
    }
   ],
   "source": [
    "layer.weight.data.shape, layer.bias.data.shape"
   ]
  },
  {
   "cell_type": "code",
   "execution_count": null,
   "metadata": {},
   "outputs": [],
   "source": []
  }
 ],
 "metadata": {
  "kernelspec": {
   "display_name": "colab",
   "language": "python",
   "name": "python3"
  },
  "language_info": {
   "codemirror_mode": {
    "name": "ipython",
    "version": 3
   },
   "file_extension": ".py",
   "mimetype": "text/x-python",
   "name": "python",
   "nbconvert_exporter": "python",
   "pygments_lexer": "ipython3",
   "version": "3.10.16"
  }
 },
 "nbformat": 4,
 "nbformat_minor": 2
}
