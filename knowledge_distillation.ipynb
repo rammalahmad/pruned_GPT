{
 "cells": [
  {
   "cell_type": "code",
   "execution_count": 1,
   "metadata": {},
   "outputs": [
    {
     "name": "stderr",
     "output_type": "stream",
     "text": [
      "/users/eleves-a/2021/ahmad.rammal/miniconda3/envs/colab/lib/python3.10/site-packages/tqdm/auto.py:21: TqdmWarning: IProgress not found. Please update jupyter and ipywidgets. See https://ipywidgets.readthedocs.io/en/stable/user_install.html\n",
      "  from .autonotebook import tqdm as notebook_tqdm\n"
     ]
    }
   ],
   "source": [
    "from pruning import *\n",
    "from lw_retrain_utils import *\n",
    "from evaluation import *\n",
    "import json\n",
    "import copy \n",
    "from datasets import load_dataset\n",
    "import os\n",
    "import gc\n",
    "import shutil"
   ]
  },
  {
   "cell_type": "code",
   "execution_count": 2,
   "metadata": {},
   "outputs": [],
   "source": [
    "model_name = \"openai-community/gpt2-medium\"\n",
    "teacher_model, tokenizer = load_model(model_name)"
   ]
  },
  {
   "cell_type": "code",
   "execution_count": null,
   "metadata": {},
   "outputs": [],
   "source": [
    "student_models = [\"depth=16\", \"depth=20_num_heads=12_mlp_exp=3.5_embed_size=1024\", \"num_heads=12_mlp_exp=2.5_embed_size=1024\"]\n",
    "params =[\n",
    "    {\"depth\": 16},\n",
    "    {\"depth\": 20, \"num_heads\": 12, \"mlp_exp\": 3.5, \"embed_size\": 1024},\n",
    "    {\"num_heads\": 12, \"mlp_exp\": 2.5, \"embed_size\": 1024}\n",
    "]"
   ]
  },
  {
   "cell_type": "code",
   "execution_count": null,
   "metadata": {},
   "outputs": [],
   "source": [
    "student_model_name = f\"saved_models/{student_models[0]}/checkpoint-280/model.safetensors\"\n",
    "student_model, tokenizer = load_model(model_name)"
   ]
  },
  {
   "cell_type": "code",
   "execution_count": 13,
   "metadata": {},
   "outputs": [],
   "source": [
    "for i in range(student_model.config.n_layer-params[0][\"depth\"]):\n",
    "    student_model.transformer.h.pop(0)"
   ]
  },
  {
   "cell_type": "code",
   "execution_count": 20,
   "metadata": {},
   "outputs": [
    {
     "name": "stdout",
     "output_type": "stream",
     "text": [
      "Safe opening failed: Error while deserializing header: HeaderTooLarge\n"
     ]
    }
   ],
   "source": [
    "from safetensors.torch import safe_open\n",
    "\n",
    "try:\n",
    "    with safe_open(student_model_name, framework=\"pt\") as f:\n",
    "        print(\"Checkpoint keys:\", list(f.keys()))\n",
    "except Exception as e:\n",
    "    print(\"Safe opening failed:\", e)\n"
   ]
  },
  {
   "cell_type": "code",
   "execution_count": 21,
   "metadata": {},
   "outputs": [
    {
     "name": "stdout",
     "output_type": "stream",
     "text": [
      "Error loading checkpoint: Error while deserializing header: HeaderTooLarge\n"
     ]
    }
   ],
   "source": [
    "from safetensors.torch import load_file\n",
    "\n",
    "\n",
    "try:\n",
    "    state_dict = load_file(student_model_name)\n",
    "    print(\"Checkpoint keys:\", state_dict.keys())  # List available tensors\n",
    "except Exception as e:\n",
    "    print(\"Error loading checkpoint:\", e)\n"
   ]
  },
  {
   "cell_type": "code",
   "execution_count": null,
   "metadata": {},
   "outputs": [],
   "source": []
  }
 ],
 "metadata": {
  "kernelspec": {
   "display_name": "colab",
   "language": "python",
   "name": "python3"
  },
  "language_info": {
   "codemirror_mode": {
    "name": "ipython",
    "version": 3
   },
   "file_extension": ".py",
   "mimetype": "text/x-python",
   "name": "python",
   "nbconvert_exporter": "python",
   "pygments_lexer": "ipython3",
   "version": "3.10.16"
  }
 },
 "nbformat": 4,
 "nbformat_minor": 2
}
